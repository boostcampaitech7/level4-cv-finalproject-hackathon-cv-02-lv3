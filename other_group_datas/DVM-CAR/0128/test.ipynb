{
 "cells": [
  {
   "cell_type": "code",
   "execution_count": 1,
   "metadata": {},
   "outputs": [],
   "source": [
    "import ollama\n",
    "\n",
    "messages = []\n",
    "\n",
    "class Session:\n",
    "    def __init__(self, model, instruction):\n",
    "        self.model = model\n",
    "        self.instruction = instruction\n",
    "        self.messages = []\n",
    "\n",
    "    def send_image(self, image_path):\n",
    "        send_message = {'role': 'user', 'content': self.instruction, 'images': [image_path]}\n",
    "        \n",
    "        if len(self.messages) == 0:\n",
    "            self.messages = [send_message]\n",
    "        else:\n",
    "            self.messages.append(send_message)\n",
    "            \n",
    "        response = ollama.chat(self.model, messages=self.messages)\n",
    "        response_content = response.message.content\n",
    "        response_message = {'role': 'assistant', 'content': response_content}\n",
    "        self.messages.append(response_message)\n",
    "        return response_content\n",
    "    \n",
    "\n"
   ]
  },
  {
   "cell_type": "code",
   "execution_count": 2,
   "metadata": {},
   "outputs": [
    {
     "name": "stdout",
     "output_type": "stream",
     "text": [
      "The car depicted in the image is a Fiat 124 Spider. To evaluate its style, we will consider several factors: \n",
      "\n",
      "*   **Exterior Design**: The Fiat 124 Spider has a sleek and sporty design. Its curved lines and sloping roofline give it an aerodynamic look that is both functional and visually appealing.\n",
      "*   **Interior Design**: The interior of the car is equally impressive, featuring a minimalist yet premium design with high-quality materials and attention to detail.\n",
      "*   **Brand Identity**: Fiat is known for its stylish and iconic designs, which adds to the overall style score of the 124 Spider.\n",
      "*   **Originality**: While the car's design may not be entirely original, it pays homage to classic Italian sports cars while offering modern features and performance.\n",
      "\n",
      "Based on these factors, I would assign a numerical score between 0 and 1 for the stylishness of the Fiat 124 Spider. \n",
      "\n",
      "**Style Score:** 0.9876\n",
      "The image provided appears to be an illustration or rendering of a car's front end, rather than a photograph of a specific vehicle. Therefore, I will assume that this is a concept design for a new model and evaluate its style accordingly.\n",
      "\n",
      "**Evaluation Criteria:**\n",
      "\n",
      "*   **Design Originality**: The design seems to blend elements from various sports cars, which may not be particularly original.\n",
      "*   **Simplification of Design Elements**: While the overall shape looks sleek, some details appear slightly over-simplified or generic.\n",
      "*   **Lack of Distinctive Features**: There are no immediately recognizable features that set this car apart from others in its class.\n",
      "\n",
      "**Style Score:** 0.4567\n",
      "The image provided appears to be an illustration or rendering of a car's front end, rather than a photograph of a specific vehicle. Therefore, I will assume that this is a concept design for a new model and evaluate its style accordingly.\n",
      "\n",
      "**Evaluation Criteria:**\n",
      "\n",
      "*   **Design Originality**: The design seems to blend elements from various sports cars, which may not be particularly original.\n",
      "*   **Simplification of Design Elements**: While the overall shape looks sleek, some details appear slightly over-simplified or generic.\n",
      "*   **Lack of Distinctive Features**: There are no immediately recognizable features that set this car apart from others in its class.\n",
      "\n",
      "**Style Score:** 0.4567\n"
     ]
    }
   ],
   "source": [
    "instruction = \"Please disregard any previous instructions. You are a professional car designer tasked with evaluating the stylishness of cars using numerical scores. Assess the stylishness of the car shown in the images below by assigning a numerical score between 0 and 1, where 0 represents 'not stylish at all' and 1 signifies 'extremely stylish.' Provide the score with four decimal places (for example, 0.1322).\"\n",
    "session = Session(model='llama3.2-vision:11b', instruction=instruction)\n",
    "print(session.send_image(\"1.jpg\"))\n",
    "print(session.send_image(\"2.jpg\"))\n",
    "print(session.send_image(\"3.jpg\"))"
   ]
  },
  {
   "cell_type": "code",
   "execution_count": 8,
   "metadata": {},
   "outputs": [
    {
     "name": "stdout",
     "output_type": "stream",
     "text": [
      "As a professional car designer evaluating the stylishness of the Alfa Romeo Giulia based on the image provided, I would give it a numerical score of 0.7864 for its stylish design. The car has a dynamic and elegant profile with well-proportioned curves and an attractive front grille that is characteristic of the brand's distinctive style.\n",
      "As a professional car designer evaluating the stylishness of the Hyundai Ioniq Electric shown in the image provided, I would give it a numerical score of 0.6835 for its stylish design. The car features a modern and aerodynamic profile with clean lines, and the front grille is well integrated with the overall aesthetics. Its sleek headlights contribute to its contemporary appearance, but there's room for improvement in terms of visual excitement and brand identity compared to some other cars on the market.\n",
      "As a professional car designer evaluating the stylishness of the Hyundai Santa Fe shown in the image provided, I would give it a numerical score of 0.7586 for its stylish design. The SUV has a robust and well-proportioned presence with an attractive front grille that is characteristic of the brand's distinctive style. Its sleek headlights contribute to its contemporary appearance, but there's room for improvement in terms of visual excitement and brand identity compared to some other cars on the market.\n",
      "As a professional car designer evaluating the stylishness of the blue Maserati GranTurismo shown in the image provided, I would give it a numerical score of 0.9786 for its stylish design. The car exhibits an elegant and powerful appearance with sleek curves and aerodynamic features that contribute to its high-end sports car identity. The front grille is well integrated with the overall aesthetics, and the headlights display a sophisticated style. The car's aggressive stance and attention to detail make it stand out as one of the most stylish vehicles on the market.\n"
     ]
    }
   ],
   "source": [
    "instruction = \"Please disregard any previous instructions. You are a professional car designer tasked with evaluating the stylishness of cars using numerical scores. Assess the stylishness of the car shown in the images below by assigning a numerical score between 0 and 1, where 0 represents 'not stylish at all' and 1 signifies 'extremely stylish.' Provide the score with four decimal places (for example, 0.1322).\"\n",
    "session = Session(model='llava:34b', instruction=instruction)\n",
    "print(session.send_image(\"1.jpg\"))\n",
    "print(session.send_image(\"2.jpg\"))\n",
    "print(session.send_image(\"3.jpg\"))\n",
    "print(session.send_image(\"1.jpg\"))\n"
   ]
  },
  {
   "cell_type": "code",
   "execution_count": null,
   "metadata": {},
   "outputs": [],
   "source": []
  }
 ],
 "metadata": {
  "kernelspec": {
   "display_name": "torch",
   "language": "python",
   "name": "python3"
  },
  "language_info": {
   "codemirror_mode": {
    "name": "ipython",
    "version": 3
   },
   "file_extension": ".py",
   "mimetype": "text/x-python",
   "name": "python",
   "nbconvert_exporter": "python",
   "pygments_lexer": "ipython3",
   "version": "3.10.13"
  }
 },
 "nbformat": 4,
 "nbformat_minor": 2
}
