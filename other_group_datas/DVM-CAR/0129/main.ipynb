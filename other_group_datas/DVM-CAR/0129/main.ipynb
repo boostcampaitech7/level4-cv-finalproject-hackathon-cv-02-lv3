{
 "cells": [
  {
   "cell_type": "code",
   "execution_count": 35,
   "metadata": {},
   "outputs": [],
   "source": [
    "import ollama\n",
    "import glob\n",
    "import os\n",
    "import re\n",
    "import pandas as pd"
   ]
  },
  {
   "cell_type": "code",
   "execution_count": 57,
   "metadata": {},
   "outputs": [],
   "source": [
    "def chat(model, instruction, image_path=None):\n",
    "    messages = {'role': 'user', 'content': instruction}\n",
    "    if image_path is not None:\n",
    "        messages['images'] = [image_path]\n",
    "\n",
    "    messages = [messages] # List로 변환 \n",
    "    response = ollama.chat(model=model, messages=messages)\n",
    "    content = response['message']['content']\n",
    "    return content\n",
    "\n",
    "def get_score_from_chat(model, instruction, image_path=None, pattern = r\"\\d\\.\\d+\"):\n",
    "    n_max_trial = 10 # score을 찾지 못했을 때 최대 시도 횟수\n",
    "    score = -1\n",
    "\n",
    "    for _ in range(n_max_trial):\n",
    "        response = chat(model, instruction, image_path)\n",
    "        search = re.search(pattern, response)\n",
    "\n",
    "        if search: # 일치하는 패턴 찾음\n",
    "            try:\n",
    "                score = float(search.group())\n",
    "            except:\n",
    "                pass\n",
    "            \n",
    "            if (0 <= score and score <= 1): # 정상적인 score 값이면 종료\n",
    "                break\n",
    "    \n",
    "    response = response.replace(\"\\n\", \"\") # 엔터 제거\n",
    "    response = response.replace(\"\\r\", \"\") # 엔터 제거\n",
    "    return score, response\n",
    "\n",
    "def validate_path(path):\n",
    "    validate_path = \"\"\n",
    "    for c in path:\n",
    "        if c in \"\\:*?<>|\":\n",
    "            validate_path += \"_\"\n",
    "        else:\n",
    "            validate_path += c\n",
    "\n",
    "    return validate_path"
   ]
  },
  {
   "cell_type": "code",
   "execution_count": 44,
   "metadata": {},
   "outputs": [],
   "source": [
    "model = 'llava:34b'\n",
    "image_dir_path = '../data/confirmed_fronts'\n",
    "save_dir_path = f'result/{model}/stylishness'\n",
    "years = list(range(2018, 1990, -1))\n",
    "\n",
    "instruction = (\n",
    "    \"Please disregard any previous instructions. \"\n",
    "    \"You are a professional car designer tasked with evaluating the stylishness \"\n",
    "    \"of cars using numerical scores. Assess the stylishness of the car shown in the images \"\n",
    "    \"below by assigning a numerical score between 0 and 1, where 0 represents \"\n",
    "    \"'not stylish at all' and 1 signifies 'extremely stylish.' Provide the score \"\n",
    "    \"with four decimal places (for example, 0.1322).\"\n",
    "    )\n",
    "\n",
    "save_dir_path = validate_path(save_dir_path)\n",
    "os.makedirs(save_dir_path, exist_ok=True)\n",
    "\n",
    "for year in years:\n",
    "    image_paths = glob.glob(image_dir_path + f'/*/{year}/*', recursive=True)\n",
    "    save_path = os.path.join(save_dir_path, f'{year}.csv')\n",
    "    df = pd.DataFrame(columns=['image_path', 'score', 'response'])\n",
    "\n",
    "    if os.path.exists(save_path): # 이미 존재하는 경로이면 무시\n",
    "        continue\n",
    "\n",
    "    for image_path in image_paths:\n",
    "        rel_image_path = image_path.replace(image_dir_path + '/', \"\")\n",
    "        score, response = get_score_from_chat(model=model, instruction=instruction, image_path=image_path)\n",
    "        df.loc[len(df)] = [rel_image_path, score, response]\n",
    "        \n",
    "    df.to_csv(save_path, index=False)\n",
    "    \n"
   ]
  }
 ],
 "metadata": {
  "kernelspec": {
   "display_name": "torch",
   "language": "python",
   "name": "python3"
  },
  "language_info": {
   "codemirror_mode": {
    "name": "ipython",
    "version": 3
   },
   "file_extension": ".py",
   "mimetype": "text/x-python",
   "name": "python",
   "nbconvert_exporter": "python",
   "pygments_lexer": "ipython3",
   "version": "3.10.13"
  }
 },
 "nbformat": 4,
 "nbformat_minor": 2
}
