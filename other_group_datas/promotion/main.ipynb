{
 "cells": [
  {
   "cell_type": "code",
   "execution_count": 2,
   "metadata": {},
   "outputs": [],
   "source": [
    "import polars as pl"
   ]
  },
  {
   "cell_type": "code",
   "execution_count": 28,
   "metadata": {},
   "outputs": [],
   "source": [
    "origin = pl.read_csv('data_origin/2019-Oct.csv')"
   ]
  },
  {
   "cell_type": "code",
   "execution_count": 35,
   "metadata": {},
   "outputs": [
    {
     "data": {
      "text/html": [
       "<div><style>\n",
       ".dataframe > thead > tr,\n",
       ".dataframe > tbody > tr {\n",
       "  text-align: right;\n",
       "  white-space: pre-wrap;\n",
       "}\n",
       "</style>\n",
       "<small>shape: (42_448_764,)</small><table border=\"1\" class=\"dataframe\"><thead><tr><th>event_type</th></tr><tr><td>str</td></tr></thead><tbody><tr><td>&quot;view&quot;</td></tr><tr><td>&quot;view&quot;</td></tr><tr><td>&quot;view&quot;</td></tr><tr><td>&quot;view&quot;</td></tr><tr><td>&quot;view&quot;</td></tr><tr><td>&hellip;</td></tr><tr><td>&quot;view&quot;</td></tr><tr><td>&quot;view&quot;</td></tr><tr><td>&quot;view&quot;</td></tr><tr><td>&quot;view&quot;</td></tr><tr><td>&quot;view&quot;</td></tr></tbody></table></div>"
      ],
      "text/plain": [
       "shape: (42_448_764,)\n",
       "Series: 'event_type' [str]\n",
       "[\n",
       "\t\"view\"\n",
       "\t\"view\"\n",
       "\t\"view\"\n",
       "\t\"view\"\n",
       "\t\"view\"\n",
       "\t…\n",
       "\t\"view\"\n",
       "\t\"view\"\n",
       "\t\"view\"\n",
       "\t\"view\"\n",
       "\t\"view\"\n",
       "]"
      ]
     },
     "execution_count": 35,
     "metadata": {},
     "output_type": "execute_result"
    }
   ],
   "source": [
    "origin"
   ]
  },
  {
   "cell_type": "code",
   "execution_count": null,
   "metadata": {},
   "outputs": [],
   "source": []
  },
  {
   "cell_type": "code",
   "execution_count": 7,
   "metadata": {},
   "outputs": [],
   "source": [
    "brand_table = pl.read_parquet('src/data/raw/brand_table.parquet')\n",
    "category_table = pl.read_parquet('src/data/raw/category_table.parquet')\n",
    "filter_session = pl.read_parquet('src/data/raw/filter_session.parquet')\n",
    "item_data = pl.read_parquet('src/data/raw/item_data.parquet')\n",
    "log_data = pl.read_parquet('src/data/raw/log_data.parquet')\n",
    "user_data = pl.read_parquet('src/data/raw/user_data.parquet')"
   ]
  },
  {
   "cell_type": "code",
   "execution_count": 30,
   "metadata": {},
   "outputs": [
    {
     "data": {
      "text/html": [
       "<div><style>\n",
       ".dataframe > thead > tr,\n",
       ".dataframe > tbody > tr {\n",
       "  text-align: right;\n",
       "  white-space: pre-wrap;\n",
       "}\n",
       "</style>\n",
       "<small>shape: (7_804, 2)</small><table border=\"1\" class=\"dataframe\"><thead><tr><th>brand</th><th>brand_id</th></tr><tr><td>str</td><td>i64</td></tr></thead><tbody><tr><td>&quot;Other&quot;</td><td>0</td></tr><tr><td>&quot;Huawang&quot;</td><td>1</td></tr><tr><td>&quot;DXRacer&quot;</td><td>2</td></tr><tr><td>&quot;OneNail&quot;</td><td>3</td></tr><tr><td>&quot;Саратовские обои&quot;</td><td>4</td></tr><tr><td>&hellip;</td><td>&hellip;</td></tr><tr><td>&quot;Top Driver&quot;</td><td>7799</td></tr><tr><td>&quot;iWalk&quot;</td><td>7800</td></tr><tr><td>&quot;Shanghai RXL&quot;</td><td>7801</td></tr><tr><td>&quot;Xilong&quot;</td><td>7802</td></tr><tr><td>&quot;Belezza&quot;</td><td>7803</td></tr></tbody></table></div>"
      ],
      "text/plain": [
       "shape: (7_804, 2)\n",
       "┌──────────────────┬──────────┐\n",
       "│ brand            ┆ brand_id │\n",
       "│ ---              ┆ ---      │\n",
       "│ str              ┆ i64      │\n",
       "╞══════════════════╪══════════╡\n",
       "│ Other            ┆ 0        │\n",
       "│ Huawang          ┆ 1        │\n",
       "│ DXRacer          ┆ 2        │\n",
       "│ OneNail          ┆ 3        │\n",
       "│ Саратовские обои ┆ 4        │\n",
       "│ …                ┆ …        │\n",
       "│ Top Driver       ┆ 7799     │\n",
       "│ iWalk            ┆ 7800     │\n",
       "│ Shanghai RXL     ┆ 7801     │\n",
       "│ Xilong           ┆ 7802     │\n",
       "│ Belezza          ┆ 7803     │\n",
       "└──────────────────┴──────────┘"
      ]
     },
     "execution_count": 30,
     "metadata": {},
     "output_type": "execute_result"
    }
   ],
   "source": [
    "brand_table"
   ]
  },
  {
   "cell_type": "code",
   "execution_count": 31,
   "metadata": {},
   "outputs": [
    {
     "data": {
      "text/html": [
       "<div><style>\n",
       ".dataframe > thead > tr,\n",
       ".dataframe > tbody > tr {\n",
       "  text-align: right;\n",
       "  white-space: pre-wrap;\n",
       "}\n",
       "</style>\n",
       "<small>shape: (1_134_580, 2)</small><table border=\"1\" class=\"dataframe\"><thead><tr><th>user_id_index</th><th>user_session_index</th></tr><tr><td>u32</td><td>u32</td></tr></thead><tbody><tr><td>2630509</td><td>7482881</td></tr><tr><td>520096</td><td>36752302</td></tr><tr><td>4233990</td><td>4244150</td></tr><tr><td>1016512</td><td>53714500</td></tr><tr><td>53437</td><td>55931893</td></tr><tr><td>&hellip;</td><td>&hellip;</td></tr><tr><td>12061846</td><td>30770222</td></tr><tr><td>12503352</td><td>62141721</td></tr><tr><td>14221947</td><td>10684586</td></tr><tr><td>15212289</td><td>81508365</td></tr><tr><td>13704914</td><td>37419289</td></tr></tbody></table></div>"
      ],
      "text/plain": [
       "shape: (1_134_580, 2)\n",
       "┌───────────────┬────────────────────┐\n",
       "│ user_id_index ┆ user_session_index │\n",
       "│ ---           ┆ ---                │\n",
       "│ u32           ┆ u32                │\n",
       "╞═══════════════╪════════════════════╡\n",
       "│ 2630509       ┆ 7482881            │\n",
       "│ 520096        ┆ 36752302           │\n",
       "│ 4233990       ┆ 4244150            │\n",
       "│ 1016512       ┆ 53714500           │\n",
       "│ 53437         ┆ 55931893           │\n",
       "│ …             ┆ …                  │\n",
       "│ 12061846      ┆ 30770222           │\n",
       "│ 12503352      ┆ 62141721           │\n",
       "│ 14221947      ┆ 10684586           │\n",
       "│ 15212289      ┆ 81508365           │\n",
       "│ 13704914      ┆ 37419289           │\n",
       "└───────────────┴────────────────────┘"
      ]
     },
     "execution_count": 31,
     "metadata": {},
     "output_type": "execute_result"
    }
   ],
   "source": [
    "filter_session"
   ]
  },
  {
   "cell_type": "code",
   "execution_count": 23,
   "metadata": {},
   "outputs": [
    {
     "data": {
      "text/html": [
       "<div><style>\n",
       ".dataframe > thead > tr,\n",
       ".dataframe > tbody > tr {\n",
       "  text-align: right;\n",
       "  white-space: pre-wrap;\n",
       "}\n",
       "</style>\n",
       "<small>shape: (411_709_736, 5)</small><table border=\"1\" class=\"dataframe\"><thead><tr><th>event_time_index</th><th>event_type_index</th><th>product_id_index</th><th>user_session_index</th><th>price</th></tr><tr><td>u32</td><td>u8</td><td>u32</td><td>u32</td><td>f32</td></tr></thead><tbody><tr><td>1569888000</td><td>1</td><td>205940</td><td>40237534</td><td>35.790001</td></tr><tr><td>1569888000</td><td>1</td><td>14924</td><td>51575871</td><td>33.200001</td></tr><tr><td>1569888001</td><td>1</td><td>2880</td><td>43642300</td><td>251.740005</td></tr><tr><td>1569888001</td><td>1</td><td>95215</td><td>30275874</td><td>543.099976</td></tr><tr><td>1569888004</td><td>1</td><td>619</td><td>69626428</td><td>1081.97998</td></tr><tr><td>&hellip;</td><td>&hellip;</td><td>&hellip;</td><td>&hellip;</td><td>&hellip;</td></tr><tr><td>1588291199</td><td>1</td><td>1316</td><td>56744812</td><td>1599.780029</td></tr><tr><td>1588291199</td><td>1</td><td>688</td><td>11109247</td><td>228.830002</td></tr><tr><td>1588291199</td><td>1</td><td>368345</td><td>48911306</td><td>12.84</td></tr><tr><td>1588291199</td><td>1</td><td>28021</td><td>68678643</td><td>141.320007</td></tr><tr><td>1588291199</td><td>1</td><td>53873</td><td>73729529</td><td>1956.030029</td></tr></tbody></table></div>"
      ],
      "text/plain": [
       "shape: (411_709_736, 5)\n",
       "┌──────────────────┬──────────────────┬──────────────────┬────────────────────┬─────────────┐\n",
       "│ event_time_index ┆ event_type_index ┆ product_id_index ┆ user_session_index ┆ price       │\n",
       "│ ---              ┆ ---              ┆ ---              ┆ ---                ┆ ---         │\n",
       "│ u32              ┆ u8               ┆ u32              ┆ u32                ┆ f32         │\n",
       "╞══════════════════╪══════════════════╪══════════════════╪════════════════════╪═════════════╡\n",
       "│ 1569888000       ┆ 1                ┆ 205940           ┆ 40237534           ┆ 35.790001   │\n",
       "│ 1569888000       ┆ 1                ┆ 14924            ┆ 51575871           ┆ 33.200001   │\n",
       "│ 1569888001       ┆ 1                ┆ 2880             ┆ 43642300           ┆ 251.740005  │\n",
       "│ 1569888001       ┆ 1                ┆ 95215            ┆ 30275874           ┆ 543.099976  │\n",
       "│ 1569888004       ┆ 1                ┆ 619              ┆ 69626428           ┆ 1081.97998  │\n",
       "│ …                ┆ …                ┆ …                ┆ …                  ┆ …           │\n",
       "│ 1588291199       ┆ 1                ┆ 1316             ┆ 56744812           ┆ 1599.780029 │\n",
       "│ 1588291199       ┆ 1                ┆ 688              ┆ 11109247           ┆ 228.830002  │\n",
       "│ 1588291199       ┆ 1                ┆ 368345           ┆ 48911306           ┆ 12.84       │\n",
       "│ 1588291199       ┆ 1                ┆ 28021            ┆ 68678643           ┆ 141.320007  │\n",
       "│ 1588291199       ┆ 1                ┆ 53873            ┆ 73729529           ┆ 1956.030029 │\n",
       "└──────────────────┴──────────────────┴──────────────────┴────────────────────┴─────────────┘"
      ]
     },
     "execution_count": 23,
     "metadata": {},
     "output_type": "execute_result"
    }
   ],
   "source": [
    "log_data"
   ]
  },
  {
   "cell_type": "code",
   "execution_count": 24,
   "metadata": {},
   "outputs": [
    {
     "data": {
      "text/html": [
       "<div><style>\n",
       ".dataframe > thead > tr,\n",
       ".dataframe > tbody > tr {\n",
       "  text-align: right;\n",
       "  white-space: pre-wrap;\n",
       "}\n",
       "</style>\n",
       "<small>shape: (89_700_869, 2)</small><table border=\"1\" class=\"dataframe\"><thead><tr><th>user_id_index</th><th>user_session_index</th></tr><tr><td>u32</td><td>u32</td></tr></thead><tbody><tr><td>6239044</td><td>39296037</td></tr><tr><td>5855313</td><td>27757815</td></tr><tr><td>6954839</td><td>7890555</td></tr><tr><td>12234232</td><td>8639486</td></tr><tr><td>344037</td><td>67325917</td></tr><tr><td>&hellip;</td><td>&hellip;</td></tr><tr><td>10340470</td><td>35241496</td></tr><tr><td>5901061</td><td>13561599</td></tr><tr><td>14417161</td><td>61058411</td></tr><tr><td>6614917</td><td>317617</td></tr><tr><td>3555753</td><td>11018103</td></tr></tbody></table></div>"
      ],
      "text/plain": [
       "shape: (89_700_869, 2)\n",
       "┌───────────────┬────────────────────┐\n",
       "│ user_id_index ┆ user_session_index │\n",
       "│ ---           ┆ ---                │\n",
       "│ u32           ┆ u32                │\n",
       "╞═══════════════╪════════════════════╡\n",
       "│ 6239044       ┆ 39296037           │\n",
       "│ 5855313       ┆ 27757815           │\n",
       "│ 6954839       ┆ 7890555            │\n",
       "│ 12234232      ┆ 8639486            │\n",
       "│ 344037        ┆ 67325917           │\n",
       "│ …             ┆ …                  │\n",
       "│ 10340470      ┆ 35241496           │\n",
       "│ 5901061       ┆ 13561599           │\n",
       "│ 14417161      ┆ 61058411           │\n",
       "│ 6614917       ┆ 317617             │\n",
       "│ 3555753       ┆ 11018103           │\n",
       "└───────────────┴────────────────────┘"
      ]
     },
     "execution_count": 24,
     "metadata": {},
     "output_type": "execute_result"
    }
   ],
   "source": [
    "user_data"
   ]
  },
  {
   "cell_type": "code",
   "execution_count": 13,
   "metadata": {},
   "outputs": [
    {
     "data": {
      "text/plain": [
       "(1237, 12)"
      ]
     },
     "execution_count": 13,
     "metadata": {},
     "output_type": "execute_result"
    }
   ],
   "source": [
    "category_table.shape"
   ]
  },
  {
   "cell_type": "code",
   "execution_count": 14,
   "metadata": {},
   "outputs": [
    {
     "data": {
      "text/plain": [
       "(7804, 2)"
      ]
     },
     "execution_count": 14,
     "metadata": {},
     "output_type": "execute_result"
    }
   ],
   "source": [
    "brand_table.shape"
   ]
  },
  {
   "cell_type": "code",
   "execution_count": null,
   "metadata": {},
   "outputs": [],
   "source": []
  }
 ],
 "metadata": {
  "kernelspec": {
   "display_name": "torch",
   "language": "python",
   "name": "python3"
  },
  "language_info": {
   "codemirror_mode": {
    "name": "ipython",
    "version": 3
   },
   "file_extension": ".py",
   "mimetype": "text/x-python",
   "name": "python",
   "nbconvert_exporter": "python",
   "pygments_lexer": "ipython3",
   "version": "3.10.13"
  }
 },
 "nbformat": 4,
 "nbformat_minor": 2
}
