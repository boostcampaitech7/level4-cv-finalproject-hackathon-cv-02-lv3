{
 "cells": [
  {
   "cell_type": "code",
   "execution_count": 104,
   "metadata": {},
   "outputs": [],
   "source": [
    "import pandas as pd\n",
    "import numpy as np"
   ]
  },
  {
   "cell_type": "code",
   "execution_count": 105,
   "metadata": {},
   "outputs": [],
   "source": [
    "dat= pd.read_csv('/data/ephemeral/home/Seungcheol/level4-cv-finalproject-hackathon-cv-02-lv3/melb_final.csv')\n",
    "dat1=pd.read_csv('/data/ephemeral/home/Seungcheol/level4-cv-finalproject-hackathon-cv-02-lv3/melb_split2.csv')\n",
    "dat2=pd.read_csv('/data/ephemeral/home/Seungcheol/level4-cv-finalproject-hackathon-cv-02-lv3/melb_split.csv')"
   ]
  },
  {
   "cell_type": "code",
   "execution_count": 106,
   "metadata": {},
   "outputs": [],
   "source": [
    "dat=dat.drop(columns=['Split'])\n",
    "dat2=dat2.drop(columns=['Split'])"
   ]
  },
  {
   "cell_type": "code",
   "execution_count": 107,
   "metadata": {},
   "outputs": [
    {
     "name": "stdout",
     "output_type": "stream",
     "text": [
      "dat 크기: (13580, 21)\n",
      "dat1 크기: (13580, 21)\n",
      "dat2 크기: (13580, 21)\n"
     ]
    }
   ],
   "source": [
    "print(f\"dat 크기: {dat.shape}\")\n",
    "print(f\"dat1 크기: {dat1.shape}\")\n",
    "print(f\"dat2 크기: {dat2.shape}\")\n"
   ]
  },
  {
   "cell_type": "code",
   "execution_count": 108,
   "metadata": {},
   "outputs": [
    {
     "name": "stdout",
     "output_type": "stream",
     "text": [
      "dat과 dat1 컬럼 차이: set()\n",
      "dat과 dat2 컬럼 차이: set()\n",
      "dat1과 dat2 컬럼 차이: set()\n"
     ]
    }
   ],
   "source": [
    "print(f\"dat과 dat1 컬럼 차이: {set(dat.columns) ^ set(dat1.columns)}\")\n",
    "print(f\"dat과 dat2 컬럼 차이: {set(dat.columns) ^ set(dat2.columns)}\")\n",
    "print(f\"dat1과 dat2 컬럼 차이: {set(dat1.columns) ^ set(dat2.columns)}\")"
   ]
  },
  {
   "cell_type": "code",
   "execution_count": 109,
   "metadata": {},
   "outputs": [
    {
     "name": "stdout",
     "output_type": "stream",
     "text": [
      "\n",
      "[dat과 dat1의 dtype 비교]\n",
      "                  self  other\n",
      "Postcode       float64  int64\n",
      "Bedroom2       float64  int64\n",
      "Bathroom       float64  int64\n",
      "Landsize       float64  int64\n",
      "Propertycount  float64  int64\n",
      "Price          float64  int64\n",
      "\n",
      "[dat과 dat2의 dtype 비교]\n",
      "Empty DataFrame\n",
      "Columns: [self, other]\n",
      "Index: []\n",
      "\n",
      "[dat1과 dat2의 dtype 비교]\n",
      "                self    other\n",
      "Postcode       int64  float64\n",
      "Bedroom2       int64  float64\n",
      "Bathroom       int64  float64\n",
      "Landsize       int64  float64\n",
      "Propertycount  int64  float64\n",
      "Price          int64  float64\n"
     ]
    }
   ],
   "source": [
    "print(\"\\n[dat과 dat1의 dtype 비교]\")\n",
    "print(dat.dtypes.compare(dat1.dtypes))\n",
    "\n",
    "print(\"\\n[dat과 dat2의 dtype 비교]\")\n",
    "print(dat.dtypes.compare(dat2.dtypes))\n",
    "\n",
    "print(\"\\n[dat1과 dat2의 dtype 비교]\")\n",
    "print(dat1.dtypes.compare(dat2.dtypes))\n"
   ]
  },
  {
   "cell_type": "code",
   "execution_count": 110,
   "metadata": {},
   "outputs": [
    {
     "name": "stdout",
     "output_type": "stream",
     "text": [
      "dat과 dat1 인덱스 동일? True\n",
      "dat과 dat2 인덱스 동일? True\n",
      "dat1과 dat2 인덱스 동일? True\n"
     ]
    }
   ],
   "source": [
    "print(f\"dat과 dat1 인덱스 동일? {dat.index.equals(dat1.index)}\")\n",
    "print(f\"dat과 dat2 인덱스 동일? {dat.index.equals(dat2.index)}\")\n",
    "print(f\"dat1과 dat2 인덱스 동일? {dat1.index.equals(dat2.index)}\")\n"
   ]
  },
  {
   "cell_type": "code",
   "execution_count": 111,
   "metadata": {},
   "outputs": [
    {
     "name": "stdout",
     "output_type": "stream",
     "text": [
      "dat과 dat1 완전히 동일? False\n",
      "dat과 dat2 완전히 동일? True\n",
      "dat1과 dat2 완전히 동일? False\n"
     ]
    }
   ],
   "source": [
    "print(f\"dat과 dat1 완전히 동일? {dat.equals(dat1)}\")\n",
    "print(f\"dat과 dat2 완전히 동일? {dat.equals(dat2)}\")\n",
    "print(f\"dat1과 dat2 완전히 동일? {dat1.equals(dat2)}\")\n"
   ]
  },
  {
   "cell_type": "code",
   "execution_count": 112,
   "metadata": {},
   "outputs": [
    {
     "name": "stdout",
     "output_type": "stream",
     "text": [
      "\n",
      "[dat vs dat1 차이점]\n",
      "      Lattitude           Longtitude           \n",
      "           self     other       self      other\n",
      "20    -37.73549 -37.73549        NaN        NaN\n",
      "34          NaN       NaN  145.15914  145.15914\n",
      "48          NaN       NaN  145.09844  145.09844\n",
      "89          NaN       NaN  145.00039  145.00039\n",
      "91          NaN       NaN  145.09314  145.09314\n",
      "...         ...       ...        ...        ...\n",
      "13514       NaN       NaN  144.90009  144.90009\n",
      "13518       NaN       NaN  144.94900  144.94900\n",
      "13523       NaN       NaN  145.15629  145.15629\n",
      "13536       NaN       NaN  145.21891  145.21891\n",
      "13576       NaN       NaN  145.16524  145.16524\n",
      "\n",
      "[1150 rows x 4 columns]\n",
      "\n",
      "[dat vs dat2 차이점]\n",
      "Empty DataFrame\n",
      "Columns: []\n",
      "Index: []\n",
      "\n",
      "[dat1 vs dat2 차이점]\n",
      "      Lattitude           Longtitude           \n",
      "           self     other       self      other\n",
      "20    -37.73549 -37.73549        NaN        NaN\n",
      "34          NaN       NaN  145.15914  145.15914\n",
      "48          NaN       NaN  145.09844  145.09844\n",
      "89          NaN       NaN  145.00039  145.00039\n",
      "91          NaN       NaN  145.09314  145.09314\n",
      "...         ...       ...        ...        ...\n",
      "13514       NaN       NaN  144.90009  144.90009\n",
      "13518       NaN       NaN  144.94900  144.94900\n",
      "13523       NaN       NaN  145.15629  145.15629\n",
      "13536       NaN       NaN  145.21891  145.21891\n",
      "13576       NaN       NaN  145.16524  145.16524\n",
      "\n",
      "[1150 rows x 4 columns]\n"
     ]
    }
   ],
   "source": [
    "diff_dat_dat1 = dat.compare(dat1, keep_equal=False)\n",
    "diff_dat_dat2 = dat.compare(dat2, keep_equal=False)\n",
    "diff_dat1_dat2 = dat1.compare(dat2, keep_equal=False)\n",
    "\n",
    "print(\"\\n[dat vs dat1 차이점]\")\n",
    "print(diff_dat_dat1)\n",
    "\n",
    "print(\"\\n[dat vs dat2 차이점]\")\n",
    "print(diff_dat_dat2)\n",
    "\n",
    "print(\"\\n[dat1 vs dat2 차이점]\")\n",
    "print(diff_dat1_dat2)"
   ]
  },
  {
   "cell_type": "code",
   "execution_count": 113,
   "metadata": {},
   "outputs": [],
   "source": [
    "#부동 소수점"
   ]
  },
  {
   "cell_type": "code",
   "execution_count": null,
   "metadata": {},
   "outputs": [],
   "source": [
    "1.3245, 1.32450001"
   ]
  }
 ],
 "metadata": {
  "kernelspec": {
   "display_name": "base",
   "language": "python",
   "name": "python3"
  },
  "language_info": {
   "codemirror_mode": {
    "name": "ipython",
    "version": 3
   },
   "file_extension": ".py",
   "mimetype": "text/x-python",
   "name": "python",
   "nbconvert_exporter": "python",
   "pygments_lexer": "ipython3",
   "version": "3.10.13"
  }
 },
 "nbformat": 4,
 "nbformat_minor": 2
}
