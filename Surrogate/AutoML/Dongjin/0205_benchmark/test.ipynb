{
 "cells": [
  {
   "cell_type": "code",
   "execution_count": 8,
   "metadata": {},
   "outputs": [],
   "source": [
    "import autosklearn.regression\n",
    "from autoML.utils import evaluate_regression, data_preparation, Log\n",
    "import time\n",
    "import shutil\n",
    "import os\n",
    "import pandas as pd \n",
    "\n",
    "def flat_dicts(dicts):\n",
    "    flat_dicts = {}\n",
    "    for phase, metrics in dicts.items():\n",
    "        for metric_name, value in metrics.items():\n",
    "            flat_dicts[f\"{phase}_{metric_name}\"] = value\n",
    "\n",
    "    return flat_dicts\n",
    "\n",
    "\n",
    "def run_autosklearn(X_train, y_train, X_test, y_test, run_time, seed):\n",
    "    tmp_folder = '/data/ephemeral/home/Dongjin/temp'\n",
    "    if os.path.exists(tmp_folder) and os.path.isdir(tmp_folder):\n",
    "        shutil.rmtree(tmp_folder)\n",
    "\n",
    "    log = Log(logger_name=\"autosklearn\")\n",
    "    log.log(\"autosklearn - start\")\n",
    "    \n",
    "    start = time.time()\n",
    "    automl = autosklearn.regression.AutoSklearnRegressor(\n",
    "        time_left_for_this_task=run_time,\n",
    "        per_run_time_limit=30,\n",
    "        tmp_folder=tmp_folder,\n",
    "        n_jobs=-1,\n",
    "        seed=seed)\n",
    "\n",
    "    automl.fit(X_train, y_train)\n",
    "    end = time.time()\n",
    "\n",
    "    y_train_pred = automl.predict(X_train)\n",
    "    y_test_pred = automl.predict(X_test)\n",
    "\n",
    "    train_score = evaluate_regression(y_train, y_train_pred, 'train') \n",
    "    test_score = evaluate_regression(y_test, y_test_pred, 'test')\n",
    "    scores = flat_dicts({'train': train_score, 'test': test_score})\n",
    "    elapsed_time = end-start\n",
    "\n",
    "    log.log(automl.leaderboard())\n",
    "    log.log(f'Autosklearn.regression init to training finished in: {elapsed_time:.1f} s')\n",
    "    log.log_dicts(train_score)\n",
    "    log.log_dicts(test_score)\n",
    "\n",
    "    return scores, elapsed_time\n",
    "\n"
   ]
  },
  {
   "cell_type": "code",
   "execution_count": 12,
   "metadata": {},
   "outputs": [
    {
     "name": "stdout",
     "output_type": "stream",
     "text": [
      "[2025-02-05 15:06:40] autosklearn - start\n"
     ]
    },
    {
     "name": "stdout",
     "output_type": "stream",
     "text": [
      "[WARNING] [2025-02-05 15:06:46,925:Client-AutoML(1):cdacabb3-e3d2-11ef-8cfc-5edd8b65a915] Time limit for a single run is higher than total time limit. Capping the limit for a single run to the total time given to SMAC (29.609386)\n",
      "[WARNING] [2025-02-05 15:06:46,925:Client-AutoML(1):cdacabb3-e3d2-11ef-8cfc-5edd8b65a915] Capping the per_run_time_limit to 14.0 to have time for a least 2 models in each process.\n",
      "\n",
      "Evaluation for train:\n",
      "R2 Score: 0.8793\n",
      "Mean Absolute Error (MAE): 135364.6297\n",
      "Root Mean Squared Error (RMSE): 233779.9077\n",
      "\n",
      "Evaluation for test:\n",
      "R2 Score: 0.7706\n",
      "Mean Absolute Error (MAE): 195485.4764\n",
      "Root Mean Squared Error (RMSE): 324515.5077\n",
      "[2025-02-05 15:07:12]           rank  ensemble_weight                 type      cost  duration\n",
      "model_id                                                                \n",
      "12           1             0.44    gradient_boosting  0.238716  1.564097\n",
      "2            2             0.04        random_forest  0.253091  7.561969\n",
      "15           3             0.26    gradient_boosting  0.255342  3.885651\n",
      "16           4             0.14  k_nearest_neighbors  0.306216  0.762110\n",
      "11           5             0.12  k_nearest_neighbors  0.393048  0.833081\n",
      "[2025-02-05 15:07:12] Autosklearn.regression init to training finished in: 31.2 s\n",
      "[2025-02-05 15:07:12] R2: 0.8793, MAE: 135364.6297, RMSE: 233779.9077\n",
      "[2025-02-05 15:07:12] R2: 0.7706, MAE: 195485.4764, RMSE: 324515.5077\n",
      "[2025-02-05 15:07:12] autosklearn - start\n"
     ]
    },
    {
     "ename": "AttributeError",
     "evalue": "'NoneType' object has no attribute 'info'",
     "output_type": "error",
     "traceback": [
      "\u001b[0;31m---------------------------------------------------------------------------\u001b[0m",
      "\u001b[0;31mKeyboardInterrupt\u001b[0m                         Traceback (most recent call last)",
      "File \u001b[0;32m/data/ephemeral/conda_envs/sklearn-env/lib/python3.9/site-packages/autosklearn/automl.py:634\u001b[0m, in \u001b[0;36mAutoML.fit\u001b[0;34m(self, X, y, task, X_test, y_test, feat_type, dataset_name, only_return_configuration_space, load_models, is_classification)\u001b[0m\n\u001b[1;32m    633\u001b[0m \u001b[38;5;28;01mtry\u001b[39;00m:\n\u001b[0;32m--> 634\u001b[0m     \u001b[38;5;28mself\u001b[39m\u001b[38;5;241m.\u001b[39m_logger \u001b[38;5;241m=\u001b[39m \u001b[38;5;28;43mself\u001b[39;49m\u001b[38;5;241;43m.\u001b[39;49m\u001b[43m_get_logger\u001b[49m\u001b[43m(\u001b[49m\u001b[43mdataset_name\u001b[49m\u001b[43m)\u001b[49m\n\u001b[1;32m    636\u001b[0m     \u001b[38;5;66;03m# The first thing we have to do is create the logger to update the backend\u001b[39;00m\n",
      "File \u001b[0;32m/data/ephemeral/conda_envs/sklearn-env/lib/python3.9/site-packages/autosklearn/automl.py:395\u001b[0m, in \u001b[0;36mAutoML._get_logger\u001b[0;34m(self, name)\u001b[0m\n\u001b[1;32m    394\u001b[0m \u001b[38;5;28;01mif\u001b[39;00m port\u001b[38;5;241m.\u001b[39mvalue \u001b[38;5;241m==\u001b[39m \u001b[38;5;241m-\u001b[39m\u001b[38;5;241m1\u001b[39m:\n\u001b[0;32m--> 395\u001b[0m     \u001b[43mtime\u001b[49m\u001b[38;5;241;43m.\u001b[39;49m\u001b[43msleep\u001b[49m\u001b[43m(\u001b[49m\u001b[38;5;241;43m0.01\u001b[39;49m\u001b[43m)\u001b[49m\n\u001b[1;32m    396\u001b[0m \u001b[38;5;28;01melse\u001b[39;00m:\n",
      "\u001b[0;31mKeyboardInterrupt\u001b[0m: ",
      "\nDuring handling of the above exception, another exception occurred:\n",
      "\u001b[0;31mAttributeError\u001b[0m                            Traceback (most recent call last)",
      "Cell \u001b[0;32mIn[12], line 11\u001b[0m\n\u001b[1;32m      9\u001b[0m \u001b[38;5;28;01mfor\u001b[39;00m seed \u001b[38;5;129;01min\u001b[39;00m seeds:\n\u001b[1;32m     10\u001b[0m     result \u001b[38;5;241m=\u001b[39m {\u001b[38;5;124m'\u001b[39m\u001b[38;5;124mrun_time\u001b[39m\u001b[38;5;124m'\u001b[39m: run_time, \u001b[38;5;124m'\u001b[39m\u001b[38;5;124mseed\u001b[39m\u001b[38;5;124m'\u001b[39m: seed}\n\u001b[0;32m---> 11\u001b[0m     scores, elapsed_time \u001b[38;5;241m=\u001b[39m \u001b[43mrun_autosklearn\u001b[49m\u001b[43m(\u001b[49m\u001b[43mX_train\u001b[49m\u001b[43m,\u001b[49m\u001b[43m \u001b[49m\u001b[43my_train\u001b[49m\u001b[43m,\u001b[49m\u001b[43m \u001b[49m\u001b[43mX_test\u001b[49m\u001b[43m,\u001b[49m\u001b[43m \u001b[49m\u001b[43my_test\u001b[49m\u001b[43m,\u001b[49m\u001b[43m \u001b[49m\u001b[43mrun_time\u001b[49m\u001b[43m,\u001b[49m\u001b[43m \u001b[49m\u001b[43mseed\u001b[49m\u001b[43m)\u001b[49m\n\u001b[1;32m     12\u001b[0m     result\u001b[38;5;241m.\u001b[39mupdate(scores)\n",
      "Cell \u001b[0;32mIn[8], line 33\u001b[0m, in \u001b[0;36mrun_autosklearn\u001b[0;34m(X_train, y_train, X_test, y_test, run_time, seed)\u001b[0m\n\u001b[1;32m     25\u001b[0m start \u001b[38;5;241m=\u001b[39m time\u001b[38;5;241m.\u001b[39mtime()\n\u001b[1;32m     26\u001b[0m automl \u001b[38;5;241m=\u001b[39m autosklearn\u001b[38;5;241m.\u001b[39mregression\u001b[38;5;241m.\u001b[39mAutoSklearnRegressor(\n\u001b[1;32m     27\u001b[0m     time_left_for_this_task\u001b[38;5;241m=\u001b[39mrun_time,\n\u001b[1;32m     28\u001b[0m     per_run_time_limit\u001b[38;5;241m=\u001b[39m\u001b[38;5;241m30\u001b[39m,\n\u001b[1;32m     29\u001b[0m     tmp_folder\u001b[38;5;241m=\u001b[39mtmp_folder,\n\u001b[1;32m     30\u001b[0m     n_jobs\u001b[38;5;241m=\u001b[39m\u001b[38;5;241m-\u001b[39m\u001b[38;5;241m1\u001b[39m,\n\u001b[1;32m     31\u001b[0m     seed\u001b[38;5;241m=\u001b[39mseed)\n\u001b[0;32m---> 33\u001b[0m \u001b[43mautoml\u001b[49m\u001b[38;5;241;43m.\u001b[39;49m\u001b[43mfit\u001b[49m\u001b[43m(\u001b[49m\u001b[43mX_train\u001b[49m\u001b[43m,\u001b[49m\u001b[43m \u001b[49m\u001b[43my_train\u001b[49m\u001b[43m)\u001b[49m\n\u001b[1;32m     34\u001b[0m end \u001b[38;5;241m=\u001b[39m time\u001b[38;5;241m.\u001b[39mtime()\n\u001b[1;32m     36\u001b[0m y_train_pred \u001b[38;5;241m=\u001b[39m automl\u001b[38;5;241m.\u001b[39mpredict(X_train)\n",
      "File \u001b[0;32m/data/ephemeral/conda_envs/sklearn-env/lib/python3.9/site-packages/autosklearn/estimators.py:1587\u001b[0m, in \u001b[0;36mAutoSklearnRegressor.fit\u001b[0;34m(self, X, y, X_test, y_test, feat_type, dataset_name)\u001b[0m\n\u001b[1;32m   1576\u001b[0m     \u001b[38;5;28;01mraise\u001b[39;00m \u001b[38;5;167;01mValueError\u001b[39;00m(\n\u001b[1;32m   1577\u001b[0m         \u001b[38;5;124m\"\u001b[39m\u001b[38;5;124mRegression with data of type \u001b[39m\u001b[38;5;132;01m{}\u001b[39;00m\u001b[38;5;124m is \u001b[39m\u001b[38;5;124m\"\u001b[39m\n\u001b[1;32m   1578\u001b[0m         \u001b[38;5;124m\"\u001b[39m\u001b[38;5;124mnot supported. Supported types are \u001b[39m\u001b[38;5;132;01m{}\u001b[39;00m\u001b[38;5;124m. \u001b[39m\u001b[38;5;124m\"\u001b[39m\n\u001b[0;32m   (...)\u001b[0m\n\u001b[1;32m   1582\u001b[0m         \u001b[38;5;124m\"\u001b[39m\u001b[38;5;124m\"\u001b[39m\u001b[38;5;241m.\u001b[39mformat(target_type, supported_types)\n\u001b[1;32m   1583\u001b[0m     )\n\u001b[1;32m   1585\u001b[0m \u001b[38;5;66;03m# Fit is supposed to be idempotent!\u001b[39;00m\n\u001b[1;32m   1586\u001b[0m \u001b[38;5;66;03m# But not if we use share_mode.\u001b[39;00m\n\u001b[0;32m-> 1587\u001b[0m \u001b[38;5;28;43msuper\u001b[39;49m\u001b[43m(\u001b[49m\u001b[43m)\u001b[49m\u001b[38;5;241;43m.\u001b[39;49m\u001b[43mfit\u001b[49m\u001b[43m(\u001b[49m\n\u001b[1;32m   1588\u001b[0m \u001b[43m    \u001b[49m\u001b[43mX\u001b[49m\u001b[38;5;241;43m=\u001b[39;49m\u001b[43mX\u001b[49m\u001b[43m,\u001b[49m\n\u001b[1;32m   1589\u001b[0m \u001b[43m    \u001b[49m\u001b[43my\u001b[49m\u001b[38;5;241;43m=\u001b[39;49m\u001b[43my\u001b[49m\u001b[43m,\u001b[49m\n\u001b[1;32m   1590\u001b[0m \u001b[43m    \u001b[49m\u001b[43mX_test\u001b[49m\u001b[38;5;241;43m=\u001b[39;49m\u001b[43mX_test\u001b[49m\u001b[43m,\u001b[49m\n\u001b[1;32m   1591\u001b[0m \u001b[43m    \u001b[49m\u001b[43my_test\u001b[49m\u001b[38;5;241;43m=\u001b[39;49m\u001b[43my_test\u001b[49m\u001b[43m,\u001b[49m\n\u001b[1;32m   1592\u001b[0m \u001b[43m    \u001b[49m\u001b[43mfeat_type\u001b[49m\u001b[38;5;241;43m=\u001b[39;49m\u001b[43mfeat_type\u001b[49m\u001b[43m,\u001b[49m\n\u001b[1;32m   1593\u001b[0m \u001b[43m    \u001b[49m\u001b[43mdataset_name\u001b[49m\u001b[38;5;241;43m=\u001b[39;49m\u001b[43mdataset_name\u001b[49m\u001b[43m,\u001b[49m\n\u001b[1;32m   1594\u001b[0m \u001b[43m\u001b[49m\u001b[43m)\u001b[49m\n\u001b[1;32m   1596\u001b[0m \u001b[38;5;28;01mreturn\u001b[39;00m \u001b[38;5;28mself\u001b[39m\n",
      "File \u001b[0;32m/data/ephemeral/conda_envs/sklearn-env/lib/python3.9/site-packages/autosklearn/estimators.py:540\u001b[0m, in \u001b[0;36mAutoSklearnEstimator.fit\u001b[0;34m(self, **kwargs)\u001b[0m\n\u001b[1;32m    538\u001b[0m \u001b[38;5;28;01mif\u001b[39;00m \u001b[38;5;28mself\u001b[39m\u001b[38;5;241m.\u001b[39mautoml_ \u001b[38;5;129;01mis\u001b[39;00m \u001b[38;5;28;01mNone\u001b[39;00m:\n\u001b[1;32m    539\u001b[0m     \u001b[38;5;28mself\u001b[39m\u001b[38;5;241m.\u001b[39mautoml_ \u001b[38;5;241m=\u001b[39m \u001b[38;5;28mself\u001b[39m\u001b[38;5;241m.\u001b[39mbuild_automl()\n\u001b[0;32m--> 540\u001b[0m \u001b[38;5;28;43mself\u001b[39;49m\u001b[38;5;241;43m.\u001b[39;49m\u001b[43mautoml_\u001b[49m\u001b[38;5;241;43m.\u001b[39;49m\u001b[43mfit\u001b[49m\u001b[43m(\u001b[49m\u001b[43mload_models\u001b[49m\u001b[38;5;241;43m=\u001b[39;49m\u001b[38;5;28;43mself\u001b[39;49m\u001b[38;5;241;43m.\u001b[39;49m\u001b[43mload_models\u001b[49m\u001b[43m,\u001b[49m\u001b[43m \u001b[49m\u001b[38;5;241;43m*\u001b[39;49m\u001b[38;5;241;43m*\u001b[39;49m\u001b[43mkwargs\u001b[49m\u001b[43m)\u001b[49m\n\u001b[1;32m    542\u001b[0m \u001b[38;5;28;01mreturn\u001b[39;00m \u001b[38;5;28mself\u001b[39m\n",
      "File \u001b[0;32m/data/ephemeral/conda_envs/sklearn-env/lib/python3.9/site-packages/autosklearn/automl.py:2394\u001b[0m, in \u001b[0;36mAutoMLRegressor.fit\u001b[0;34m(self, X, y, X_test, y_test, feat_type, dataset_name, only_return_configuration_space, load_models)\u001b[0m\n\u001b[1;32m   2383\u001b[0m \u001b[38;5;28;01mdef\u001b[39;00m\u001b[38;5;250m \u001b[39m\u001b[38;5;21mfit\u001b[39m(\n\u001b[1;32m   2384\u001b[0m     \u001b[38;5;28mself\u001b[39m,\n\u001b[1;32m   2385\u001b[0m     X: SUPPORTED_FEAT_TYPES,\n\u001b[0;32m   (...)\u001b[0m\n\u001b[1;32m   2392\u001b[0m     load_models: \u001b[38;5;28mbool\u001b[39m \u001b[38;5;241m=\u001b[39m \u001b[38;5;28;01mTrue\u001b[39;00m,\n\u001b[1;32m   2393\u001b[0m ) \u001b[38;5;241m-\u001b[39m\u001b[38;5;241m>\u001b[39m AutoMLRegressor:\n\u001b[0;32m-> 2394\u001b[0m     \u001b[38;5;28;01mreturn\u001b[39;00m \u001b[38;5;28;43msuper\u001b[39;49m\u001b[43m(\u001b[49m\u001b[43m)\u001b[49m\u001b[38;5;241;43m.\u001b[39;49m\u001b[43mfit\u001b[49m\u001b[43m(\u001b[49m\n\u001b[1;32m   2395\u001b[0m \u001b[43m        \u001b[49m\u001b[43mX\u001b[49m\u001b[43m,\u001b[49m\n\u001b[1;32m   2396\u001b[0m \u001b[43m        \u001b[49m\u001b[43my\u001b[49m\u001b[43m,\u001b[49m\n\u001b[1;32m   2397\u001b[0m \u001b[43m        \u001b[49m\u001b[43mX_test\u001b[49m\u001b[38;5;241;43m=\u001b[39;49m\u001b[43mX_test\u001b[49m\u001b[43m,\u001b[49m\n\u001b[1;32m   2398\u001b[0m \u001b[43m        \u001b[49m\u001b[43my_test\u001b[49m\u001b[38;5;241;43m=\u001b[39;49m\u001b[43my_test\u001b[49m\u001b[43m,\u001b[49m\n\u001b[1;32m   2399\u001b[0m \u001b[43m        \u001b[49m\u001b[43mfeat_type\u001b[49m\u001b[38;5;241;43m=\u001b[39;49m\u001b[43mfeat_type\u001b[49m\u001b[43m,\u001b[49m\n\u001b[1;32m   2400\u001b[0m \u001b[43m        \u001b[49m\u001b[43mdataset_name\u001b[49m\u001b[38;5;241;43m=\u001b[39;49m\u001b[43mdataset_name\u001b[49m\u001b[43m,\u001b[49m\n\u001b[1;32m   2401\u001b[0m \u001b[43m        \u001b[49m\u001b[43monly_return_configuration_space\u001b[49m\u001b[38;5;241;43m=\u001b[39;49m\u001b[43monly_return_configuration_space\u001b[49m\u001b[43m,\u001b[49m\n\u001b[1;32m   2402\u001b[0m \u001b[43m        \u001b[49m\u001b[43mload_models\u001b[49m\u001b[38;5;241;43m=\u001b[39;49m\u001b[43mload_models\u001b[49m\u001b[43m,\u001b[49m\n\u001b[1;32m   2403\u001b[0m \u001b[43m        \u001b[49m\u001b[43mis_classification\u001b[49m\u001b[38;5;241;43m=\u001b[39;49m\u001b[38;5;28;43;01mFalse\u001b[39;49;00m\u001b[43m,\u001b[49m\n\u001b[1;32m   2404\u001b[0m \u001b[43m    \u001b[49m\u001b[43m)\u001b[49m\n",
      "File \u001b[0;32m/data/ephemeral/conda_envs/sklearn-env/lib/python3.9/site-packages/autosklearn/automl.py:964\u001b[0m, in \u001b[0;36mAutoML.fit\u001b[0;34m(self, X, y, task, X_test, y_test, feat_type, dataset_name, only_return_configuration_space, load_models, is_classification)\u001b[0m\n\u001b[1;32m    962\u001b[0m     \u001b[38;5;28;01mraise\u001b[39;00m e\n\u001b[1;32m    963\u001b[0m \u001b[38;5;28;01mfinally\u001b[39;00m:\n\u001b[0;32m--> 964\u001b[0m     \u001b[38;5;28;43mself\u001b[39;49m\u001b[38;5;241;43m.\u001b[39;49m\u001b[43m_fit_cleanup\u001b[49m\u001b[43m(\u001b[49m\u001b[43m)\u001b[49m\n\u001b[1;32m    966\u001b[0m \u001b[38;5;28mself\u001b[39m\u001b[38;5;241m.\u001b[39mfitted \u001b[38;5;241m=\u001b[39m \u001b[38;5;28;01mTrue\u001b[39;00m\n\u001b[1;32m    968\u001b[0m \u001b[38;5;28;01mreturn\u001b[39;00m \u001b[38;5;28mself\u001b[39m\n",
      "File \u001b[0;32m/data/ephemeral/conda_envs/sklearn-env/lib/python3.9/site-packages/autosklearn/automl.py:1064\u001b[0m, in \u001b[0;36mAutoML._fit_cleanup\u001b[0;34m(self)\u001b[0m\n\u001b[1;32m   1063\u001b[0m \u001b[38;5;28;01mdef\u001b[39;00m\u001b[38;5;250m \u001b[39m\u001b[38;5;21m_fit_cleanup\u001b[39m(\u001b[38;5;28mself\u001b[39m) \u001b[38;5;241m-\u001b[39m\u001b[38;5;241m>\u001b[39m \u001b[38;5;28;01mNone\u001b[39;00m:\n\u001b[0;32m-> 1064\u001b[0m     \u001b[38;5;28;43mself\u001b[39;49m\u001b[38;5;241;43m.\u001b[39;49m\u001b[43m_logger\u001b[49m\u001b[38;5;241;43m.\u001b[39;49m\u001b[43minfo\u001b[49m(\u001b[38;5;124m\"\u001b[39m\u001b[38;5;124mClosing the dask infrastructure\u001b[39m\u001b[38;5;124m\"\u001b[39m)\n\u001b[1;32m   1065\u001b[0m     \u001b[38;5;28mself\u001b[39m\u001b[38;5;241m.\u001b[39m_logger\u001b[38;5;241m.\u001b[39minfo(\u001b[38;5;124m\"\u001b[39m\u001b[38;5;124mFinished closing the dask infrastructure\u001b[39m\u001b[38;5;124m\"\u001b[39m)\n\u001b[1;32m   1067\u001b[0m     \u001b[38;5;66;03m# Clean up the logger\u001b[39;00m\n",
      "\u001b[0;31mAttributeError\u001b[0m: 'NoneType' object has no attribute 'info'"
     ]
    }
   ],
   "source": [
    "run_times = list(range(60, 610, 60))\n",
    "run_times.insert(0, 30)\n",
    "seeds = [1, 2, 3]\n",
    "data_path = '/data/ephemeral/home/Dongjin/data/melbourne/melb_split.csv'\n",
    "\n",
    "X_train, y_train, X_test, y_test = data_preparation(data_path) \n",
    "\n",
    "for run_time in run_times:\n",
    "    for seed in seeds:\n",
    "        result = {'run_time': run_time, 'seed': seed}\n",
    "        scores, elapsed_time = run_autosklearn(X_train, y_train, X_test, y_test, run_time, seed)\n",
    "        result.update(scores)"
   ]
  },
  {
   "cell_type": "code",
   "execution_count": 15,
   "metadata": {},
   "outputs": [],
   "source": [
    "result.update(scores)"
   ]
  },
  {
   "cell_type": "code",
   "execution_count": 16,
   "metadata": {},
   "outputs": [
    {
     "data": {
      "text/plain": [
       "{'run_time': 30,\n",
       " 'seed': 2,\n",
       " 'train_R2': 0.8792751610252849,\n",
       " 'train_MAE': 135364.62973834752,\n",
       " 'train_RMSE': 233779.90770771875,\n",
       " 'test_R2': 0.7706333464850197,\n",
       " 'test_MAE': 195485.47637188574,\n",
       " 'test_RMSE': 324515.507742028}"
      ]
     },
     "execution_count": 16,
     "metadata": {},
     "output_type": "execute_result"
    }
   ],
   "source": [
    "result"
   ]
  },
  {
   "cell_type": "code",
   "execution_count": null,
   "metadata": {},
   "outputs": [],
   "source": []
  }
 ],
 "metadata": {
  "kernelspec": {
   "display_name": "sklearn-env",
   "language": "python",
   "name": "python3"
  },
  "language_info": {
   "codemirror_mode": {
    "name": "ipython",
    "version": 3
   },
   "file_extension": ".py",
   "mimetype": "text/x-python",
   "name": "python",
   "nbconvert_exporter": "python",
   "pygments_lexer": "ipython3",
   "version": "3.9.21"
  }
 },
 "nbformat": 4,
 "nbformat_minor": 2
}
