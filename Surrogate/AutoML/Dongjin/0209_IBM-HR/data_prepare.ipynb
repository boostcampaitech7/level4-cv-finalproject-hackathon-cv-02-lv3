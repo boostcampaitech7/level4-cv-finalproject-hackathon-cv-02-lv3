{
 "cells": [
  {
   "cell_type": "code",
   "execution_count": 54,
   "metadata": {},
   "outputs": [],
   "source": [
    "import pandas as pd\n",
    "from sklearn.model_selection import train_test_split\n",
    "import os"
   ]
  },
  {
   "cell_type": "code",
   "execution_count": 55,
   "metadata": {},
   "outputs": [],
   "source": [
    "data_path = '/data/ephemeral/home/Dongjin/data/IBM-HR/WA_Fn-UseC_-HR-Employee-Attrition.csv'\n",
    "df = pd.read_csv(data_path)\n",
    "\n",
    "target = 'Attrition'\n",
    "df.loc[df[target] == 'Yes', target] = 1\n",
    "df.loc[df[target] == 'No', target] = 0\n",
    "df[target] = df[target].astype(int)\n",
    "df = pd.get_dummies(df)\n",
    "\n",
    "df_train, df_test = train_test_split(\n",
    "    df, test_size=0.2, random_state=42)\n",
    "\n",
    "df_train = df_train.reset_index(drop=True)\n",
    "df_test = df_test.reset_index(drop=True)\n",
    "\n",
    "os.makedirs('data', exist_ok=True)\n",
    "df_train.to_csv('data/train.csv', index=False)\n",
    "df_test.to_csv('data/test.csv', index=False)\n"
   ]
  },
  {
   "cell_type": "code",
   "execution_count": null,
   "metadata": {},
   "outputs": [],
   "source": []
  }
 ],
 "metadata": {
  "kernelspec": {
   "display_name": "torch",
   "language": "python",
   "name": "python3"
  },
  "language_info": {
   "codemirror_mode": {
    "name": "ipython",
    "version": 3
   },
   "file_extension": ".py",
   "mimetype": "text/x-python",
   "name": "python",
   "nbconvert_exporter": "python",
   "pygments_lexer": "ipython3",
   "version": "3.10.13"
  }
 },
 "nbformat": 4,
 "nbformat_minor": 2
}
