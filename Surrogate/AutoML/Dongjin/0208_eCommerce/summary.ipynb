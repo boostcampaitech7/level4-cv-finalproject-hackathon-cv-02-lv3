{
 "cells": [
  {
   "cell_type": "code",
   "execution_count": 2,
   "metadata": {},
   "outputs": [],
   "source": [
    "import pandas as pd"
   ]
  },
  {
   "cell_type": "code",
   "execution_count": 3,
   "metadata": {},
   "outputs": [
    {
     "data": {
      "text/html": [
       "<div>\n",
       "<style scoped>\n",
       "    .dataframe tbody tr th:only-of-type {\n",
       "        vertical-align: middle;\n",
       "    }\n",
       "\n",
       "    .dataframe tbody tr th {\n",
       "        vertical-align: top;\n",
       "    }\n",
       "\n",
       "    .dataframe thead th {\n",
       "        text-align: right;\n",
       "    }\n",
       "</style>\n",
       "<table border=\"1\" class=\"dataframe\">\n",
       "  <thead>\n",
       "    <tr style=\"text-align: right;\">\n",
       "      <th></th>\n",
       "      <th>mode</th>\n",
       "      <th>args</th>\n",
       "      <th>seed</th>\n",
       "      <th>timestamp</th>\n",
       "      <th>train_R2</th>\n",
       "      <th>train_adjusted_R2</th>\n",
       "      <th>train_MAE</th>\n",
       "      <th>train_RMSE</th>\n",
       "      <th>test_R2</th>\n",
       "      <th>test_adjusted_R2</th>\n",
       "      <th>test_MAE</th>\n",
       "      <th>test_RMSE</th>\n",
       "      <th>elapsed_time</th>\n",
       "    </tr>\n",
       "  </thead>\n",
       "  <tbody>\n",
       "    <tr>\n",
       "      <th>0</th>\n",
       "      <td>autoML</td>\n",
       "      <td>{'n_generation': 6}</td>\n",
       "      <td>1</td>\n",
       "      <td>250209_055146</td>\n",
       "      <td>0.959343</td>\n",
       "      <td>0.959243</td>\n",
       "      <td>4.201004</td>\n",
       "      <td>7.165466</td>\n",
       "      <td>-3.158106</td>\n",
       "      <td>-3.199276</td>\n",
       "      <td>12.959334</td>\n",
       "      <td>15.630306</td>\n",
       "      <td>415.155136</td>\n",
       "    </tr>\n",
       "    <tr>\n",
       "      <th>1</th>\n",
       "      <td>tpot</td>\n",
       "      <td>{'generations': 6}</td>\n",
       "      <td>1</td>\n",
       "      <td>250209_055845</td>\n",
       "      <td>0.915808</td>\n",
       "      <td>0.915602</td>\n",
       "      <td>6.818831</td>\n",
       "      <td>10.311278</td>\n",
       "      <td>-0.647674</td>\n",
       "      <td>-0.663987</td>\n",
       "      <td>7.917463</td>\n",
       "      <td>9.839099</td>\n",
       "      <td>516.401942</td>\n",
       "    </tr>\n",
       "    <tr>\n",
       "      <th>2</th>\n",
       "      <td>auto-sklearn</td>\n",
       "      <td>{'target_time': 400}</td>\n",
       "      <td>1</td>\n",
       "      <td>250209_060727</td>\n",
       "      <td>0.928541</td>\n",
       "      <td>0.928365</td>\n",
       "      <td>6.187828</td>\n",
       "      <td>9.499633</td>\n",
       "      <td>-1.894324</td>\n",
       "      <td>-1.922980</td>\n",
       "      <td>10.881718</td>\n",
       "      <td>13.040469</td>\n",
       "      <td>406.327757</td>\n",
       "    </tr>\n",
       "  </tbody>\n",
       "</table>\n",
       "</div>"
      ],
      "text/plain": [
       "           mode                  args  seed      timestamp  train_R2  \\\n",
       "0        autoML   {'n_generation': 6}     1  250209_055146  0.959343   \n",
       "1          tpot    {'generations': 6}     1  250209_055845  0.915808   \n",
       "2  auto-sklearn  {'target_time': 400}     1  250209_060727  0.928541   \n",
       "\n",
       "   train_adjusted_R2  train_MAE  train_RMSE   test_R2  test_adjusted_R2  \\\n",
       "0           0.959243   4.201004    7.165466 -3.158106         -3.199276   \n",
       "1           0.915602   6.818831   10.311278 -0.647674         -0.663987   \n",
       "2           0.928365   6.187828    9.499633 -1.894324         -1.922980   \n",
       "\n",
       "    test_MAE  test_RMSE  elapsed_time  \n",
       "0  12.959334  15.630306    415.155136  \n",
       "1   7.917463   9.839099    516.401942  \n",
       "2  10.881718  13.040469    406.327757  "
      ]
     },
     "execution_count": 3,
     "metadata": {},
     "output_type": "execute_result"
    }
   ],
   "source": [
    "result_path = 'result/eCommerce.csv'\n",
    "df = pd.read_csv(result_path)\n",
    "df"
   ]
  },
  {
   "cell_type": "code",
   "execution_count": null,
   "metadata": {},
   "outputs": [],
   "source": []
  }
 ],
 "metadata": {
  "kernelspec": {
   "display_name": "torch",
   "language": "python",
   "name": "python3"
  },
  "language_info": {
   "codemirror_mode": {
    "name": "ipython",
    "version": 3
   },
   "file_extension": ".py",
   "mimetype": "text/x-python",
   "name": "python",
   "nbconvert_exporter": "python",
   "pygments_lexer": "ipython3",
   "version": "3.10.13"
  }
 },
 "nbformat": 4,
 "nbformat_minor": 2
}
