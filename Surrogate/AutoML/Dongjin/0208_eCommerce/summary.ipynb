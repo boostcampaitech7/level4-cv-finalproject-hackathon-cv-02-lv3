{
 "cells": [
  {
   "cell_type": "code",
   "execution_count": 1,
   "metadata": {},
   "outputs": [],
   "source": [
    "import pandas as pd"
   ]
  },
  {
   "cell_type": "code",
   "execution_count": 4,
   "metadata": {},
   "outputs": [
    {
     "data": {
      "text/html": [
       "<div>\n",
       "<style scoped>\n",
       "    .dataframe tbody tr th:only-of-type {\n",
       "        vertical-align: middle;\n",
       "    }\n",
       "\n",
       "    .dataframe tbody tr th {\n",
       "        vertical-align: top;\n",
       "    }\n",
       "\n",
       "    .dataframe thead th {\n",
       "        text-align: right;\n",
       "    }\n",
       "</style>\n",
       "<table border=\"1\" class=\"dataframe\">\n",
       "  <thead>\n",
       "    <tr style=\"text-align: right;\">\n",
       "      <th></th>\n",
       "      <th>mode</th>\n",
       "      <th>args</th>\n",
       "      <th>seed</th>\n",
       "      <th>train_R2</th>\n",
       "      <th>train_adjusted_R2</th>\n",
       "      <th>train_MAE</th>\n",
       "      <th>train_RMSE</th>\n",
       "      <th>test_R2</th>\n",
       "      <th>test_adjusted_R2</th>\n",
       "      <th>test_MAE</th>\n",
       "      <th>test_RMSE</th>\n",
       "      <th>elapsed_time</th>\n",
       "    </tr>\n",
       "  </thead>\n",
       "  <tbody>\n",
       "    <tr>\n",
       "      <th>0</th>\n",
       "      <td>autoML</td>\n",
       "      <td>{'n_generation': 6}</td>\n",
       "      <td>1</td>\n",
       "      <td>0.964309</td>\n",
       "      <td>0.964221</td>\n",
       "      <td>3.763657</td>\n",
       "      <td>6.668242</td>\n",
       "      <td>0.882528</td>\n",
       "      <td>0.881365</td>\n",
       "      <td>7.351848</td>\n",
       "      <td>11.535549</td>\n",
       "      <td>395.688780</td>\n",
       "    </tr>\n",
       "    <tr>\n",
       "      <th>1</th>\n",
       "      <td>auto-scikitlearn</td>\n",
       "      <td>{'target_time': 450}</td>\n",
       "      <td>1</td>\n",
       "      <td>0.939877</td>\n",
       "      <td>0.939730</td>\n",
       "      <td>5.815463</td>\n",
       "      <td>8.654671</td>\n",
       "      <td>0.897710</td>\n",
       "      <td>0.896697</td>\n",
       "      <td>7.015275</td>\n",
       "      <td>10.764358</td>\n",
       "      <td>459.923900</td>\n",
       "    </tr>\n",
       "    <tr>\n",
       "      <th>2</th>\n",
       "      <td>tpot</td>\n",
       "      <td>{'generations': 3}</td>\n",
       "      <td>1</td>\n",
       "      <td>0.949446</td>\n",
       "      <td>0.949322</td>\n",
       "      <td>5.032122</td>\n",
       "      <td>7.936113</td>\n",
       "      <td>0.893452</td>\n",
       "      <td>0.892397</td>\n",
       "      <td>7.058216</td>\n",
       "      <td>10.986143</td>\n",
       "      <td>272.353408</td>\n",
       "    </tr>\n",
       "  </tbody>\n",
       "</table>\n",
       "</div>"
      ],
      "text/plain": [
       "               mode                  args  seed  train_R2  train_adjusted_R2  \\\n",
       "0            autoML   {'n_generation': 6}     1  0.964309           0.964221   \n",
       "1  auto-scikitlearn  {'target_time': 450}     1  0.939877           0.939730   \n",
       "2              tpot    {'generations': 3}     1  0.949446           0.949322   \n",
       "\n",
       "   train_MAE  train_RMSE   test_R2  test_adjusted_R2  test_MAE  test_RMSE  \\\n",
       "0   3.763657    6.668242  0.882528          0.881365  7.351848  11.535549   \n",
       "1   5.815463    8.654671  0.897710          0.896697  7.015275  10.764358   \n",
       "2   5.032122    7.936113  0.893452          0.892397  7.058216  10.986143   \n",
       "\n",
       "   elapsed_time  \n",
       "0    395.688780  \n",
       "1    459.923900  \n",
       "2    272.353408  "
      ]
     },
     "execution_count": 4,
     "metadata": {},
     "output_type": "execute_result"
    }
   ],
   "source": [
    "result_path = 'result/eCommerce.csv'\n",
    "df = pd.read_csv(result_path)\n",
    "df"
   ]
  },
  {
   "cell_type": "code",
   "execution_count": null,
   "metadata": {},
   "outputs": [],
   "source": []
  }
 ],
 "metadata": {
  "kernelspec": {
   "display_name": "torch",
   "language": "python",
   "name": "python3"
  },
  "language_info": {
   "codemirror_mode": {
    "name": "ipython",
    "version": 3
   },
   "file_extension": ".py",
   "mimetype": "text/x-python",
   "name": "python",
   "nbconvert_exporter": "python",
   "pygments_lexer": "ipython3",
   "version": "3.10.13"
  }
 },
 "nbformat": 4,
 "nbformat_minor": 2
}
