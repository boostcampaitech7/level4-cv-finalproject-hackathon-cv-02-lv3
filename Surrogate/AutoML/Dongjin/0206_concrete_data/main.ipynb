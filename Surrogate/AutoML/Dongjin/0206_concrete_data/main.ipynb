{
 "cells": [
  {
   "cell_type": "code",
   "execution_count": 10,
   "metadata": {},
   "outputs": [],
   "source": [
    "import pandas as pd\n",
    "from autoML.utils import evaluate_regression\n",
    "import time\n",
    "import os"
   ]
  },
  {
   "cell_type": "code",
   "execution_count": 13,
   "metadata": {},
   "outputs": [],
   "source": [
    "def rename_index_if_exists(df, index):\n",
    "    if not index in df.index:\n",
    "        return index\n",
    "\n",
    "    num = 0\n",
    "    while (num < 1000):\n",
    "        new_index = f'{index}_{num}'\n",
    "        if not new_index in df.index:\n",
    "            break\n",
    "        num += 1\n",
    "\n",
    "    return new_index\n",
    "    "
   ]
  },
  {
   "cell_type": "code",
   "execution_count": null,
   "metadata": {},
   "outputs": [
    {
     "name": "stdout",
     "output_type": "stream",
     "text": [
      "[2025-02-06 12:39:52] AutoML.__init__() - n_population: 30, n_generation: 1, n_parent: 5, prob_mutations: [0.2, 0.5], use_joblib: True, n_jobs: -1\n",
      "[2025-02-06 12:39:52] AutoML.fit() - use_kfold: True, kfold: 5, valid_size: 0.2000, seed: 42, max_n_try: 1000, timeout: 30\n"
     ]
    },
    {
     "name": "stdout",
     "output_type": "stream",
     "text": [
      "Structure-3 - valid r2: 0.8349±0.0371\n",
      "Structure-6 - valid r2: 0.2579±0.0704\n",
      "Structure-5 - valid r2: 0.3117±0.0565\n",
      "Structure-2 - valid r2: 0.9158±0.0190\n",
      "Structure-9 - valid r2: 0.3224±0.0404\n",
      "Structure-0 - valid r2: 0.8996±0.0208\n",
      "Structure-10 - valid r2: 0.6686±0.0468\n",
      "Structure-1 - valid r2: 0.2645±0.0633\n",
      "Structure-12 - valid r2: 0.5543±0.0802\n",
      "Structure-4 - valid r2: 0.2689±0.0647\n",
      "Structure-13 - valid r2: 0.8327±0.0437\n",
      "Structure-8 - valid r2: 0.8993±0.0213\n",
      "Structure-15 - valid r2: 0.8379±0.0326\n",
      "Structure-16 - valid r2: 0.8438±0.0367\n",
      "Structure-17 - valid r2: 0.7436±0.0486\n",
      "Structure-20 - valid r2: 0.8369±0.0408\n",
      "Structure-11 - valid r2: 0.8993±0.0212\n",
      "Structure-23 - valid r2: 0.8331±0.0357\n",
      "Structure-19 - valid r2: 0.8995±0.0208\n",
      "Structure-25 - valid r2: 0.8379±0.0445\n",
      "Structure-22 - valid r2: 0.8995±0.0210\n",
      "Structure-21 - valid r2: 0.2659±0.0668\n",
      "Structure-27 - valid r2: 0.6551±0.0642\n",
      "Structure-24 - valid r2: 0.8993±0.0212\n",
      "Structure-7 - valid r2: 0.8145±0.1054\n",
      "Structure-29 - valid r2: 0.9158±0.0190\n",
      "Structure-26 - valid r2: 0.9047±0.0202\n",
      "Structure-28 - valid r2: 0.9012±0.0227\n",
      "Structure-14 - valid r2: 0.9061±0.0231\n",
      "Structure-18 - valid r2: 0.9063±0.0228\n",
      "[2025-02-06 12:39:58] 1 - best R2: 0.916\n",
      "[2025-02-06 12:39:58] \n",
      "(StandardScaler) - (SelectKBest) - (XGBRegressor: n_estimators: 100, learning_rate: 0.1000, max_depth: 6) - 0.9158±0.0190\n",
      "(RobustScaler) - (VarianceThreshold) - (XGBRegressor: n_estimators: 100, learning_rate: 0.1000, max_depth: 6) - 0.9158±0.0190\n",
      "(PolynomialFeatures) - (passthrough) - (GradientBoostingRegressor: n_estimators: 100, learning_rate: 0.1000) - 0.9063±0.0228\n",
      "(PolynomialFeatures) - (VarianceThreshold) - (XGBRegressor: n_estimators: 100, learning_rate: 0.1000, max_depth: 6) - 0.9061±0.0231\n",
      "(RobustScaler) - (VarianceThreshold) - (RandomForestRegressor: n_estimators: 100) - 0.9047±0.0202\n",
      "(RobustScaler) - (VarianceThreshold) - (RandomForestRegressor: n_estimators: 100) - 0.9012±0.0227\n",
      "(StandardScaler) - (SelectKBest) - (GradientBoostingRegressor: n_estimators: 100, learning_rate: 0.1000) - 0.8996±0.0208\n",
      "(passthrough) - (passthrough) - (GradientBoostingRegressor: n_estimators: 100, learning_rate: 0.1000) - 0.8995±0.0210\n",
      "(RobustScaler) - (VarianceThreshold) - (GradientBoostingRegressor: n_estimators: 100, learning_rate: 0.1000) - 0.8995±0.0208\n",
      "(passthrough) - (VarianceThreshold) - (GradientBoostingRegressor: n_estimators: 100, learning_rate: 0.1000) - 0.8993±0.0213\n",
      "(RobustScaler) - (SelectKBest) - (GradientBoostingRegressor: n_estimators: 100, learning_rate: 0.1000) - 0.8993±0.0212\n",
      "(StandardScaler) - (VarianceThreshold) - (GradientBoostingRegressor: n_estimators: 100, learning_rate: 0.1000) - 0.8993±0.0212\n",
      "(RobustScaler) - (VarianceThreshold) - (DecisionTreeRegressor) - 0.8438±0.0367\n",
      "(passthrough) - (VarianceThreshold) - (DecisionTreeRegressor) - 0.8379±0.0445\n",
      "(RobustScaler) - (SelectKBest) - (DecisionTreeRegressor) - 0.8379±0.0326\n",
      "(RobustScaler) - (VarianceThreshold) - (DecisionTreeRegressor) - 0.8369±0.0408\n",
      "(passthrough) - (SelectKBest) - (DecisionTreeRegressor) - 0.8349±0.0371\n",
      "(RobustScaler) - (VarianceThreshold) - (DecisionTreeRegressor) - 0.8331±0.0357\n",
      "(StandardScaler) - (passthrough) - (DecisionTreeRegressor) - 0.8327±0.0437\n",
      "(PolynomialFeatures) - (SelectKBest) - (RandomForestRegressor: n_estimators: 100) - 0.8145±0.1054\n",
      "(RobustScaler) - (SelectKBest) - (KNeighborsRegressor: n_neighbors: 5) - 0.7436±0.0486\n",
      "(StandardScaler) - (SelectKBest) - (KNeighborsRegressor: n_neighbors: 5) - 0.6686±0.0468\n",
      "(passthrough) - (passthrough) - (KNeighborsRegressor: n_neighbors: 5) - 0.6551±0.0642\n",
      "(PolynomialFeatures) - (SelectKBest) - (KNeighborsRegressor: n_neighbors: 5) - 0.5543±0.0802\n",
      "(RobustScaler) - (SelectPercentile) - (GradientBoostingRegressor: n_estimators: 100, learning_rate: 0.1000) - 0.3224±0.0404\n",
      "(StandardScaler) - (SelectPercentile) - (XGBRegressor: n_estimators: 100, learning_rate: 0.1000, max_depth: 6) - 0.3117±0.0565\n",
      "(StandardScaler) - (SelectPercentile) - (RandomForestRegressor: n_estimators: 100) - 0.2689±0.0647\n",
      "(RobustScaler) - (SelectPercentile) - (RandomForestRegressor: n_estimators: 100) - 0.2659±0.0668\n",
      "(RobustScaler) - (SelectPercentile) - (RandomForestRegressor: n_estimators: 100) - 0.2645±0.0633\n",
      "(passthrough) - (SelectPercentile) - (KNeighborsRegressor: n_neighbors: 5) - 0.2579±0.0704\n",
      "[2025-02-06 12:39:58] Best structure\n",
      "[2025-02-06 12:39:58] (StandardScaler) - (SelectKBest) - (XGBRegressor: n_estimators: 100, learning_rate: 0.1000, max_depth: 6) - 0.9158±0.0190\n",
      "\n",
      "Evaluation for train:\n",
      "R2 Score: 0.9786\n",
      "Mean Absolute Error (MAE): 1.3408\n",
      "Root Mean Squared Error (RMSE): 2.4346\n",
      "\n",
      "Evaluation for test:\n",
      "R2 Score: 0.9131\n",
      "Mean Absolute Error (MAE): 3.2597\n",
      "Root Mean Squared Error (RMSE): 4.9875\n",
      "[2025-02-06 12:39:58] AutoML init to training finished in: 5.4 s\n",
      "[2025-02-06 12:39:58] Evaluation - Train - R2: 0.9786, MAE: 1.3408, RMSE: 2.4346\n",
      "[2025-02-06 12:39:58] Evaluation - Test - R2: 0.9131, MAE: 3.2597, RMSE: 4.9875\n"
     ]
    }
   ],
   "source": [
    "mode = 'autoML'\n",
    "data_dir_path = 'data'\n",
    "save_path = 'result/result.csv'\n",
    "\n",
    "X_train = pd.read_csv(data_dir_path + '/X_train.csv')\n",
    "y_train = pd.read_csv(data_dir_path + '/y_train.csv')['strength']\n",
    "X_test = pd.read_csv(data_dir_path + '/X_test.csv')\n",
    "y_test = pd.read_csv(data_dir_path + '/y_test.csv')['strength']\n",
    "\n",
    "func_dicts = {'autoML': {'func': evaluate_autoML, 'args': {'n_generation': 6}},\n",
    "              'auto-scikitlearn': {'func': evaluate_auto_scikit, 'args': {'target_time': 30}},\n",
    "              'tpot': {'func': evaluate_tpot, 'args': {'generations': 3}}}\n",
    "\n",
    "\n",
    "func = func_dicts[mode]['func']\n",
    "args = func_dicts[mode]['args']\n",
    "scores = func(X_train, y_train, X_test, y_test, **args)\n",
    "scores['args'] = args\n",
    "\n",
    "if os.path.exists(save_path):\n",
    "    df = pd.read_csv(save_path)\n",
    "else:\n",
    "    df = pd.DataFrame(columns=scores.keys())\n",
    "\n",
    "index = rename_index_if_exists(df, mode)\n",
    "df.loc[index] = scores\n",
    "\n",
    "os.makedirs(os.path.dirname(save_path), exist_ok=True)\n",
    "df.to_csv(save_path)\n"
   ]
  },
  {
   "cell_type": "code",
   "execution_count": 14,
   "metadata": {},
   "outputs": [
    {
     "data": {
      "text/plain": [
       "'autoML_0'"
      ]
     },
     "execution_count": 14,
     "metadata": {},
     "output_type": "execute_result"
    }
   ],
   "source": []
  },
  {
   "cell_type": "code",
   "execution_count": null,
   "metadata": {},
   "outputs": [],
   "source": []
  }
 ],
 "metadata": {
  "kernelspec": {
   "display_name": "torch",
   "language": "python",
   "name": "python3"
  },
  "language_info": {
   "codemirror_mode": {
    "name": "ipython",
    "version": 3
   },
   "file_extension": ".py",
   "mimetype": "text/x-python",
   "name": "python",
   "nbconvert_exporter": "python",
   "pygments_lexer": "ipython3",
   "version": "3.10.13"
  }
 },
 "nbformat": 4,
 "nbformat_minor": 2
}
