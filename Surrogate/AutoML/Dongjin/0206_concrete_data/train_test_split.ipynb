{
 "cells": [
  {
   "cell_type": "code",
   "execution_count": 27,
   "metadata": {},
   "outputs": [],
   "source": [
    "import pandas as pd\n",
    "import seaborn as sns\n",
    "import numpy as np\n",
    "import matplotlib.pyplot as plt\n",
    "from autoML.autoML import AutoML\n",
    "from sklearn.model_selection import train_test_split\n",
    "import os"
   ]
  },
  {
   "cell_type": "code",
   "execution_count": 28,
   "metadata": {},
   "outputs": [],
   "source": [
    "data_path = '/data/ephemeral/home/Dongjin/data/concrete/concrete.csv'\n",
    "target = 'strength'\n",
    "save_dir_path = 'data'\n",
    "\n",
    "df = pd.read_csv(data_path)\n",
    "df.isna().sum()\n",
    "\n",
    "X = df.drop([target], axis=1)\n",
    "y = df[target]\n",
    "\n",
    "X_train, X_test, y_train, y_test = train_test_split(\n",
    "    X, y, test_size=0.2, random_state=42)\n",
    "\n",
    "os.makedirs(save_dir_path)\n",
    "X_train.to_csv(save_dir_path + '/X_train.csv', index=False)\n",
    "X_test.to_csv(save_dir_path + '/X_test.csv', index=False)\n",
    "y_train.to_csv(save_dir_path + '/y_train.csv', index=False)\n",
    "y_test.to_csv(save_dir_path + '/y_test.csv', index=False)\n"
   ]
  }
 ],
 "metadata": {
  "kernelspec": {
   "display_name": "torch",
   "language": "python",
   "name": "python3"
  },
  "language_info": {
   "codemirror_mode": {
    "name": "ipython",
    "version": 3
   },
   "file_extension": ".py",
   "mimetype": "text/x-python",
   "name": "python",
   "nbconvert_exporter": "python",
   "pygments_lexer": "ipython3",
   "version": "3.10.13"
  }
 },
 "nbformat": 4,
 "nbformat_minor": 2
}
