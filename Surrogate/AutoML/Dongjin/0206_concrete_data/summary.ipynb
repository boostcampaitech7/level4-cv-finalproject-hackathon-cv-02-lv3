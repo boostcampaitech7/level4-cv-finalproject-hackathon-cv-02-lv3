{
 "cells": [
  {
   "cell_type": "code",
   "execution_count": 2,
   "metadata": {},
   "outputs": [],
   "source": [
    "import pandas as pd"
   ]
  },
  {
   "cell_type": "code",
   "execution_count": 4,
   "metadata": {},
   "outputs": [],
   "source": [
    "result_path = 'result/concrete.csv'\n",
    "df = pd.read_csv(result_path, index_col='func')"
   ]
  },
  {
   "cell_type": "code",
   "execution_count": 5,
   "metadata": {},
   "outputs": [
    {
     "data": {
      "text/html": [
       "<div>\n",
       "<style scoped>\n",
       "    .dataframe tbody tr th:only-of-type {\n",
       "        vertical-align: middle;\n",
       "    }\n",
       "\n",
       "    .dataframe tbody tr th {\n",
       "        vertical-align: top;\n",
       "    }\n",
       "\n",
       "    .dataframe thead th {\n",
       "        text-align: right;\n",
       "    }\n",
       "</style>\n",
       "<table border=\"1\" class=\"dataframe\">\n",
       "  <thead>\n",
       "    <tr style=\"text-align: right;\">\n",
       "      <th></th>\n",
       "      <th>train_R2</th>\n",
       "      <th>train_MAE</th>\n",
       "      <th>train_RMSE</th>\n",
       "      <th>test_R2</th>\n",
       "      <th>test_MAE</th>\n",
       "      <th>test_RMSE</th>\n",
       "      <th>elapsed_time</th>\n",
       "      <th>args</th>\n",
       "    </tr>\n",
       "    <tr>\n",
       "      <th>func</th>\n",
       "      <th></th>\n",
       "      <th></th>\n",
       "      <th></th>\n",
       "      <th></th>\n",
       "      <th></th>\n",
       "      <th></th>\n",
       "      <th></th>\n",
       "      <th></th>\n",
       "    </tr>\n",
       "  </thead>\n",
       "  <tbody>\n",
       "    <tr>\n",
       "      <th>autoML</th>\n",
       "      <td>0.981159</td>\n",
       "      <td>1.110851</td>\n",
       "      <td>2.284368</td>\n",
       "      <td>0.936772</td>\n",
       "      <td>2.712902</td>\n",
       "      <td>4.253458</td>\n",
       "      <td>79.089890</td>\n",
       "      <td>{'n_generation': 6}</td>\n",
       "    </tr>\n",
       "    <tr>\n",
       "      <th>auto-scikitlearn</th>\n",
       "      <td>0.971136</td>\n",
       "      <td>1.803817</td>\n",
       "      <td>2.827404</td>\n",
       "      <td>0.916665</td>\n",
       "      <td>3.075428</td>\n",
       "      <td>4.883178</td>\n",
       "      <td>82.662484</td>\n",
       "      <td>{'target_time': 80}</td>\n",
       "    </tr>\n",
       "    <tr>\n",
       "      <th>tpot</th>\n",
       "      <td>0.992333</td>\n",
       "      <td>0.656549</td>\n",
       "      <td>1.457251</td>\n",
       "      <td>0.932154</td>\n",
       "      <td>2.632477</td>\n",
       "      <td>4.406044</td>\n",
       "      <td>89.115409</td>\n",
       "      <td>{'generations': 3}</td>\n",
       "    </tr>\n",
       "  </tbody>\n",
       "</table>\n",
       "</div>"
      ],
      "text/plain": [
       "                  train_R2  train_MAE  train_RMSE   test_R2  test_MAE  \\\n",
       "func                                                                    \n",
       "autoML            0.981159   1.110851    2.284368  0.936772  2.712902   \n",
       "auto-scikitlearn  0.971136   1.803817    2.827404  0.916665  3.075428   \n",
       "tpot              0.992333   0.656549    1.457251  0.932154  2.632477   \n",
       "\n",
       "                  test_RMSE  elapsed_time                 args  \n",
       "func                                                            \n",
       "autoML             4.253458     79.089890  {'n_generation': 6}  \n",
       "auto-scikitlearn   4.883178     82.662484  {'target_time': 80}  \n",
       "tpot               4.406044     89.115409   {'generations': 3}  "
      ]
     },
     "execution_count": 5,
     "metadata": {},
     "output_type": "execute_result"
    }
   ],
   "source": [
    "df"
   ]
  },
  {
   "cell_type": "code",
   "execution_count": null,
   "metadata": {},
   "outputs": [],
   "source": []
  }
 ],
 "metadata": {
  "kernelspec": {
   "display_name": "torch",
   "language": "python",
   "name": "python3"
  },
  "language_info": {
   "codemirror_mode": {
    "name": "ipython",
    "version": 3
   },
   "file_extension": ".py",
   "mimetype": "text/x-python",
   "name": "python",
   "nbconvert_exporter": "python",
   "pygments_lexer": "ipython3",
   "version": "3.10.13"
  }
 },
 "nbformat": 4,
 "nbformat_minor": 2
}
