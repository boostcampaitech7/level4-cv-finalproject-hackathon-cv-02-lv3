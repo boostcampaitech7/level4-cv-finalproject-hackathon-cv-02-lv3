{
 "cells": [
  {
   "cell_type": "code",
   "execution_count": null,
   "metadata": {},
   "outputs": [
    {
     "name": "stdout",
     "output_type": "stream",
     "text": [
      "X_train.shape, y_train.shape, X_test.shape, y_test.shape:  (10812, 10) (10812,) (2706, 10) (2706,)\n",
      "X_train, y_train, X_test, y_test null\n",
      "Rooms            0\n",
      "Distance         0\n",
      "Postcode         0\n",
      "Bedroom2         0\n",
      "Bathroom         0\n",
      "Car              0\n",
      "Landsize         0\n",
      "Lattitude        0\n",
      "Longtitude       0\n",
      "Propertycount    0\n",
      "dtype: int64\n",
      "0\n",
      "Rooms            0\n",
      "Distance         0\n",
      "Postcode         0\n",
      "Bedroom2         0\n",
      "Bathroom         0\n",
      "Car              0\n",
      "Landsize         0\n",
      "Lattitude        0\n",
      "Longtitude       0\n",
      "Propertycount    0\n",
      "dtype: int64\n",
      "0\n",
      "Timeout: pipeline.fit did not complete in given time.\n",
      "2 structure - r2: 0.6732367477362013\n",
      "Timeout: pipeline.fit did not complete in given time.\n",
      "4 structure - r2: 0.39164008926144855\n"
     ]
    },
    {
     "name": "stderr",
     "output_type": "stream",
     "text": [
      "/data/ephemeral/conda_envs/torch/lib/python3.10/site-packages/sklearn/feature_selection/_univariate_selection.py:111: UserWarning: Features [0] are constant.\n",
      "  warnings.warn(\"Features %s are constant.\" % constant_features_idx, UserWarning)\n",
      "/data/ephemeral/conda_envs/torch/lib/python3.10/site-packages/sklearn/feature_selection/_univariate_selection.py:112: RuntimeWarning: invalid value encountered in divide\n",
      "  f = msb / msw\n"
     ]
    },
    {
     "name": "stdout",
     "output_type": "stream",
     "text": [
      "5 structure - r2: 0.6390850010234616\n"
     ]
    },
    {
     "name": "stderr",
     "output_type": "stream",
     "text": [
      "/data/ephemeral/conda_envs/torch/lib/python3.10/site-packages/sklearn/feature_selection/_univariate_selection.py:111: UserWarning: Features [0] are constant.\n",
      "  warnings.warn(\"Features %s are constant.\" % constant_features_idx, UserWarning)\n",
      "/data/ephemeral/conda_envs/torch/lib/python3.10/site-packages/sklearn/feature_selection/_univariate_selection.py:112: RuntimeWarning: invalid value encountered in divide\n",
      "  f = msb / msw\n"
     ]
    },
    {
     "name": "stdout",
     "output_type": "stream",
     "text": [
      "6 structure - r2: 0.45116508561514423\n",
      "7 structure - r2: 0.7431143608213466\n",
      "8 structure - r2: 0.02357490649064875\n",
      "9 structure - r2: 0.26364506041518976\n"
     ]
    },
    {
     "name": "stderr",
     "output_type": "stream",
     "text": [
      "/data/ephemeral/conda_envs/torch/lib/python3.10/site-packages/sklearn/feature_selection/_univariate_selection.py:111: UserWarning: Features [0] are constant.\n",
      "  warnings.warn(\"Features %s are constant.\" % constant_features_idx, UserWarning)\n",
      "/data/ephemeral/conda_envs/torch/lib/python3.10/site-packages/sklearn/feature_selection/_univariate_selection.py:112: RuntimeWarning: invalid value encountered in divide\n",
      "  f = msb / msw\n"
     ]
    },
    {
     "name": "stdout",
     "output_type": "stream",
     "text": [
      "10 structure - r2: 0.44844722638765233\n",
      "11 structure - r2: 0.7432216354816028\n",
      "12 structure - r2: 0.26339389273101477\n",
      "13 structure - r2: 0.7431266223728937\n"
     ]
    }
   ],
   "source": [
    "import pandas as pd\n",
    "from autoML import AutoML\n",
    "\n",
    "data_path = '/data/ephemeral/home/Dongjin/level4-cv-finalproject-hackathon-cv-02-lv3/autoML/melb_split.csv'\n",
    "drop_tables = ['Address', 'BuildingArea', 'YearBuilt',\n",
    "               'Suburb', 'Address', 'Type', 'Method', 'SellerG', 'Date', 'CouncilArea', 'Regionname']\n",
    "\n",
    "# df 불러오기 및 column 제거\n",
    "df = pd.read_csv(data_path)\n",
    "df = df.drop(drop_tables, axis=1)\n",
    "df = df.dropna(axis=0)\n",
    "\n",
    "# 데이터셋 분리\n",
    "train_data = df[df['Split'] == 'Train']\n",
    "test_data = df[df['Split'] == 'Test']\n",
    "\n",
    "# 타겟 변수와 특성 분리\n",
    "y_train = train_data['Price']\n",
    "X_train = train_data.drop(['Price', 'Split'], axis=1)\n",
    "y_test = test_data['Price']\n",
    "X_test = test_data.drop(['Price', 'Split'], axis=1)\n",
    "\n",
    "# 결과 확인\n",
    "print(\"X_train.shape, y_train.shape, X_test.shape, y_test.shape: \", X_train.shape, y_train.shape, X_test.shape, y_test.shape)\n",
    "\n",
    "# na값 통계\n",
    "print(\"X_train, y_train, X_test, y_test null\")\n",
    "print(X_train.isnull().sum())\n",
    "print(y_train.isnull().sum())\n",
    "print(X_test.isnull().sum())\n",
    "print(y_test.isnull().sum())"
   ]
  },
  {
   "cell_type": "code",
   "execution_count": null,
   "metadata": {},
   "outputs": [],
   "source": []
  }
 ],
 "metadata": {
  "kernelspec": {
   "display_name": "torch",
   "language": "python",
   "name": "python3"
  },
  "language_info": {
   "codemirror_mode": {
    "name": "ipython",
    "version": 3
   },
   "file_extension": ".py",
   "mimetype": "text/x-python",
   "name": "python",
   "nbconvert_exporter": "python",
   "pygments_lexer": "ipython3",
   "version": "3.10.13"
  }
 },
 "nbformat": 4,
 "nbformat_minor": 2
}
