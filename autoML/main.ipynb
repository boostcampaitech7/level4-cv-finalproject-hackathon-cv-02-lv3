{
 "cells": [
  {
   "cell_type": "code",
   "execution_count": 14,
   "metadata": {},
   "outputs": [
    {
     "name": "stdout",
     "output_type": "stream",
     "text": [
      "X_train.shape, y_train.shape, X_test.shape, y_test.shape:  (10812, 10) (10812,) (2706, 10) (2706,)\n",
      "X_train, y_train, X_test, y_test null\n",
      "Rooms            0\n",
      "Distance         0\n",
      "Postcode         0\n",
      "Bedroom2         0\n",
      "Bathroom         0\n",
      "Car              0\n",
      "Landsize         0\n",
      "Lattitude        0\n",
      "Longtitude       0\n",
      "Propertycount    0\n",
      "dtype: int64\n",
      "0\n",
      "Rooms            0\n",
      "Distance         0\n",
      "Postcode         0\n",
      "Bedroom2         0\n",
      "Bathroom         0\n",
      "Car              0\n",
      "Landsize         0\n",
      "Lattitude        0\n",
      "Longtitude       0\n",
      "Propertycount    0\n",
      "dtype: int64\n",
      "0\n"
     ]
    }
   ],
   "source": [
    "import pandas as pd\n",
    "from autoML import AutoML\n",
    "from sklearn.metrics import (\n",
    "    r2_score,\n",
    "    mean_absolute_error,\n",
    "    mean_squared_error,\n",
    "    median_absolute_error,\n",
    "    mean_squared_log_error,\n",
    "    explained_variance_score\n",
    ")\n",
    "import math\n",
    "\n",
    "def evaluate_regression(y_true, y_pred, dataset_name=\"Dataset\"):\n",
    "    print(f\"\\nEvaluation for {dataset_name}:\")\n",
    "    print(f\"R2 Score: {r2_score(y_true, y_pred):.4f}\")\n",
    "    print(f\"Mean Absolute Error (MAE): {mean_absolute_error(y_true, y_pred):.4f}\")\n",
    "    print(f\"Mean Squared Error (MSE): {mean_squared_error(y_true, y_pred):.4f}\")\n",
    "    print(f\"Root Mean Squared Error (RMSE): {math.sqrt(mean_squared_error(y_true, y_pred)):.4f}\")\n",
    "    print(f\"Median Absolute Error (MedAE): {median_absolute_error(y_true, y_pred):.4f}\")\n",
    "    try:\n",
    "        print(f\"Mean Squared Log Error (MSLE): {mean_squared_log_error(y_true, y_pred):.4f}\")\n",
    "    except ValueError:\n",
    "        print(\"Mean Squared Log Error (MSLE): Not defined for negative values.\")\n",
    "    print(f\"Explained Variance Score: {explained_variance_score(y_true, y_pred):.4f}\")\n",
    "\n",
    "\n",
    "data_path = '/data/ephemeral/home/Dongjin/level4-cv-finalproject-hackathon-cv-02-lv3/autoML/melb_split.csv'\n",
    "drop_tables = ['Address', 'BuildingArea', 'YearBuilt',\n",
    "               'Suburb', 'Address', 'Type', 'Method', 'SellerG', 'Date', 'CouncilArea', 'Regionname']\n",
    "\n",
    "# df 불러오기 및 column 제거\n",
    "df = pd.read_csv(data_path)\n",
    "df = df.drop(drop_tables, axis=1)\n",
    "df = df.dropna(axis=0)\n",
    "\n",
    "# 데이터셋 분리\n",
    "train_data = df[df['Split'] == 'Train']\n",
    "test_data = df[df['Split'] == 'Test']\n",
    "\n",
    "# 타겟 변수와 특성 분리\n",
    "y_train = train_data['Price']\n",
    "X_train = train_data.drop(['Price', 'Split'], axis=1)\n",
    "y_test = test_data['Price']\n",
    "X_test = test_data.drop(['Price', 'Split'], axis=1)\n",
    "\n",
    "# 결과 확인\n",
    "print(\"X_train.shape, y_train.shape, X_test.shape, y_test.shape: \", X_train.shape, y_train.shape, X_test.shape, y_test.shape)\n",
    "\n",
    "# na값 통계\n",
    "print(\"X_train, y_train, X_test, y_test null\")\n",
    "print(X_train.isnull().sum())\n",
    "print(y_train.isnull().sum())\n",
    "print(X_test.isnull().sum())\n",
    "print(y_test.isnull().sum())"
   ]
  },
  {
   "cell_type": "code",
   "execution_count": 2,
   "metadata": {},
   "outputs": [
    {
     "name": "stdout",
     "output_type": "stream",
     "text": [
      "1 structure - r2: 0.5908075319344291\n",
      "Timeout: pipeline.fit did not complete in given time.\n",
      "3 structure - r2: 0.5740106308828845\n"
     ]
    },
    {
     "name": "stderr",
     "output_type": "stream",
     "text": [
      "/data/ephemeral/conda_envs/torch/lib/python3.10/site-packages/sklearn/feature_selection/_univariate_selection.py:111: UserWarning: Features [0] are constant.\n",
      "  warnings.warn(\"Features %s are constant.\" % constant_features_idx, UserWarning)\n",
      "/data/ephemeral/conda_envs/torch/lib/python3.10/site-packages/sklearn/feature_selection/_univariate_selection.py:112: RuntimeWarning: invalid value encountered in divide\n",
      "  f = msb / msw\n"
     ]
    },
    {
     "name": "stdout",
     "output_type": "stream",
     "text": [
      "Timeout: pipeline.fit did not complete in given time.\n",
      "Timeout: pipeline.fit did not complete in given time.\n"
     ]
    },
    {
     "name": "stderr",
     "output_type": "stream",
     "text": [
      "/data/ephemeral/conda_envs/torch/lib/python3.10/site-packages/sklearn/feature_selection/_univariate_selection.py:111: UserWarning: Features [0] are constant.\n",
      "  warnings.warn(\"Features %s are constant.\" % constant_features_idx, UserWarning)\n",
      "/data/ephemeral/conda_envs/torch/lib/python3.10/site-packages/sklearn/feature_selection/_univariate_selection.py:112: RuntimeWarning: invalid value encountered in divide\n",
      "  f = msb / msw\n"
     ]
    },
    {
     "name": "stdout",
     "output_type": "stream",
     "text": [
      "Timeout: pipeline.fit did not complete in given time.\n",
      "Timeout: pipeline.fit did not complete in given time.\n",
      "8 structure - r2: 0.501730287579911\n",
      "Timeout: pipeline.fit did not complete in given time.\n",
      "10 structure - r2: 0.35602712684145843\n",
      "11 structure - r2: 0.5561603643494661\n",
      "Timeout: pipeline.fit did not complete in given time.\n",
      "13 structure - r2: 0.5840725509416411\n"
     ]
    },
    {
     "name": "stderr",
     "output_type": "stream",
     "text": [
      "/data/ephemeral/conda_envs/torch/lib/python3.10/site-packages/sklearn/feature_selection/_univariate_selection.py:111: UserWarning: Features [0] are constant.\n",
      "  warnings.warn(\"Features %s are constant.\" % constant_features_idx, UserWarning)\n",
      "/data/ephemeral/conda_envs/torch/lib/python3.10/site-packages/sklearn/feature_selection/_univariate_selection.py:112: RuntimeWarning: invalid value encountered in divide\n",
      "  f = msb / msw\n"
     ]
    },
    {
     "name": "stdout",
     "output_type": "stream",
     "text": [
      "Timeout: pipeline.fit did not complete in given time.\n",
      "15 structure - r2: 0.26339389273101477\n"
     ]
    },
    {
     "name": "stderr",
     "output_type": "stream",
     "text": [
      "/data/ephemeral/conda_envs/torch/lib/python3.10/site-packages/sklearn/feature_selection/_univariate_selection.py:111: UserWarning: Features [0] are constant.\n",
      "  warnings.warn(\"Features %s are constant.\" % constant_features_idx, UserWarning)\n",
      "/data/ephemeral/conda_envs/torch/lib/python3.10/site-packages/sklearn/feature_selection/_univariate_selection.py:112: RuntimeWarning: invalid value encountered in divide\n",
      "  f = msb / msw\n"
     ]
    },
    {
     "name": "stdout",
     "output_type": "stream",
     "text": [
      "Timeout: pipeline.fit did not complete in given time.\n",
      "17 structure - r2: 0.26339553341085364\n"
     ]
    },
    {
     "name": "stderr",
     "output_type": "stream",
     "text": [
      "/data/ephemeral/conda_envs/torch/lib/python3.10/site-packages/sklearn/feature_selection/_univariate_selection.py:111: UserWarning: Features [0] are constant.\n",
      "  warnings.warn(\"Features %s are constant.\" % constant_features_idx, UserWarning)\n",
      "/data/ephemeral/conda_envs/torch/lib/python3.10/site-packages/sklearn/feature_selection/_univariate_selection.py:112: RuntimeWarning: invalid value encountered in divide\n",
      "  f = msb / msw\n"
     ]
    },
    {
     "name": "stdout",
     "output_type": "stream",
     "text": [
      "Timeout: pipeline.fit did not complete in given time.\n",
      "Timeout: pipeline.fit did not complete in given time.\n",
      "20 structure - r2: 0.6192286075859508\n",
      "[2025-01-22 14:11:08] 1 - best R2: 0.619\n",
      "[2025-01-22 14:11:08] PolynomialFeatures() - SelectPercentile() - KNeighborsRegressor()\n"
     ]
    },
    {
     "name": "stderr",
     "output_type": "stream",
     "text": [
      "/data/ephemeral/conda_envs/torch/lib/python3.10/site-packages/sklearn/feature_selection/_univariate_selection.py:111: UserWarning: Features [0] are constant.\n",
      "  warnings.warn(\"Features %s are constant.\" % constant_features_idx, UserWarning)\n",
      "/data/ephemeral/conda_envs/torch/lib/python3.10/site-packages/sklearn/feature_selection/_univariate_selection.py:112: RuntimeWarning: invalid value encountered in divide\n",
      "  f = msb / msw\n"
     ]
    }
   ],
   "source": [
    "autoML = AutoML(n_population=20, n_generation=1, n_parent=5, prob_mutation=0.1)\n",
    "autoML.fit(X_train, y_train, timeout=3)"
   ]
  },
  {
   "cell_type": "code",
   "execution_count": 16,
   "metadata": {},
   "outputs": [
    {
     "name": "stdout",
     "output_type": "stream",
     "text": [
      "\n",
      "Evaluation for Dataset:\n",
      "R2 Score: 0.7034\n",
      "Mean Absolute Error (MAE): 215716.3726\n",
      "Mean Squared Error (MSE): 122284308775.0166\n",
      "Root Mean Squared Error (RMSE): 349691.7339\n",
      "Median Absolute Error (MedAE): 134850.0000\n",
      "Mean Squared Log Error (MSLE): 0.0701\n",
      "Explained Variance Score: 0.7034\n",
      "\n",
      "Evaluation for Dataset:\n",
      "R2 Score: 0.6266\n",
      "Mean Absolute Error (MAE): 248893.9728\n",
      "Mean Squared Error (MSE): 148616186567.2364\n",
      "Root Mean Squared Error (RMSE): 385507.6998\n",
      "Median Absolute Error (MedAE): 161000.0000\n",
      "Mean Squared Log Error (MSLE): 0.0932\n",
      "Explained Variance Score: 0.6270\n"
     ]
    }
   ],
   "source": [
    "y_train_pred = autoML.predict(X_train)\n",
    "y_test_pred = autoML.predict(X_test)\n",
    "\n",
    "evaluate_regression(y_train, y_train_pred)\n",
    "evaluate_regression(y_test, y_test_pred)"
   ]
  },
  {
   "cell_type": "code",
   "execution_count": 17,
   "metadata": {},
   "outputs": [
    {
     "name": "stdout",
     "output_type": "stream",
     "text": [
      "{'preprocessor': PolynomialFeatures(), 'feature_selection': SelectPercentile(), 'model': KNeighborsRegressor(), 'pipeline': Pipeline(steps=[('preprocessor', PolynomialFeatures()),\n",
      "                ('feature_selection', SelectPercentile()),\n",
      "                ('model', KNeighborsRegressor())]), 'valid_metric': {'r2': 0.6192286075859508, 'RMSE': 403705.2690898375}, 'train_metric': {'r2': 0.725398947059162, 'RMSE': 334824.388505672}}\n"
     ]
    }
   ],
   "source": [
    "print(autoML.best_structure)"
   ]
  },
  {
   "cell_type": "code",
   "execution_count": 8,
   "metadata": {},
   "outputs": [
    {
     "data": {
      "text/plain": [
       "0.6192286075859508"
      ]
     },
     "execution_count": 8,
     "metadata": {},
     "output_type": "execute_result"
    }
   ],
   "source": [
    "autoML.best_score"
   ]
  },
  {
   "cell_type": "code",
   "execution_count": null,
   "metadata": {},
   "outputs": [],
   "source": []
  }
 ],
 "metadata": {
  "kernelspec": {
   "display_name": "torch",
   "language": "python",
   "name": "python3"
  },
  "language_info": {
   "codemirror_mode": {
    "name": "ipython",
    "version": 3
   },
   "file_extension": ".py",
   "mimetype": "text/x-python",
   "name": "python",
   "nbconvert_exporter": "python",
   "pygments_lexer": "ipython3",
   "version": "3.10.13"
  }
 },
 "nbformat": 4,
 "nbformat_minor": 2
}
